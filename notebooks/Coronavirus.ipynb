{
 "cells": [
  {
   "cell_type": "markdown",
   "metadata": {},
   "source": [
    "# Coronavirus articles\n",
    "\n",
    "En esta notebook mostraremos algunos "
   ]
  },
  {
   "cell_type": "code",
   "execution_count": 6,
   "metadata": {},
   "outputs": [
    {
     "name": "stdout",
     "output_type": "stream",
     "text": [
      "The autoreload extension is already loaded. To reload it, use:\n",
      "  %reload_ext autoreload\n"
     ]
    }
   ],
   "source": [
    "%load_ext autoreload\n",
    "%autoreload 2\n",
    "from mongoengine import connect\n",
    "from tweepyrate import create_apps\n",
    "from hatespeech_models import Tweet, Article\n",
    "\n",
    "client = connect(\"hatespeech-news\")\n"
   ]
  },
  {
   "cell_type": "code",
   "execution_count": 7,
   "metadata": {},
   "outputs": [
    {
     "data": {
      "text/plain": [
       "48984"
      ]
     },
     "execution_count": 7,
     "metadata": {},
     "output_type": "execute_result"
    }
   ],
   "source": [
    "Article.objects.count()"
   ]
  },
  {
   "cell_type": "code",
   "execution_count": 15,
   "metadata": {},
   "outputs": [
    {
     "name": "stdout",
     "output_type": "stream",
     "text": [
      "24147\n"
     ]
    }
   ],
   "source": [
    "articles = Article.objects.search_text(\"coronavirus\")\n",
    "print(articles.count())"
   ]
  },
  {
   "cell_type": "code",
   "execution_count": 23,
   "metadata": {},
   "outputs": [
    {
     "name": "stdout",
     "output_type": "stream",
     "text": [
      "1234937845778919426 - elmundoes\n",
      "Juan José Omella, un negociador entre el Gobierno y el independentismo, nuevo presidente de la Conferencia Episcopal\n",
      "\n",
      "(12 comentarios)\n",
      "Tweet:\n",
      "Con 74 años y responsable de la Comisión Pastoral Social, Omella es el hombre del Papa Francisco en la cúpula de la Iglesia española y la personalidad preferida por el Gobierno de Pedro Sánchez https://t.co/n0DQ7Jn86x\n",
      "    \n",
      "Comentarios\n",
      "1  -- @elmundoes A ti quién te apoya?\n",
      "\n",
      "Fráudulez y Bergoglio... https://t.co/LI5Soh5wUd\n",
      "2  -- @elmundoes A los católicos de bien nos importa una higa\n",
      "3  -- @elmundoes Vamos, un rojo, montonero.\n",
      "4  -- @elmundoes Mañana habra lagarto para la cena https://t.co/fOisMAez7Z\n",
      "5  -- @elmundoes Vaya. Esto al final desenbocará en que todos los catalanes no pagaremos IBI, podremos hacer immatriculaciones a nivel estatal y nos haran  donaciones al marcar la casilla de la renta....una ganga!\n",
      "6  -- @elmundoes Esperemos que ya venga a España el Papa.\n",
      "7  -- @elmundoes Que difícil es ser católico hoy\n",
      "8  -- @elmundoes Cada día me fío menos del Obispero.\n",
      "9  -- @elmundoes Pues que se quede con el antipapa.\n",
      "10 -- @elmundoes Si es el mejor para el DOCTOR FRAUDE MALO MALO!!!\n",
      "11 -- @elmundoes Ni un € en la casilla de la Iglesia\n",
      "12 -- @elmundoes Otro rasgo peronista de Pedro Sánchez\n"
     ]
    }
   ],
   "source": [
    "article = articles[91]\n",
    "print(article)\n",
    "\n",
    "print(\"Comentarios\")\n",
    "\n",
    "for i, reply in enumerate(article.comments):\n",
    "    print(f\"{i+1:<3}-- {reply.text}\")"
   ]
  },
  {
   "cell_type": "code",
   "execution_count": null,
   "metadata": {},
   "outputs": [],
   "source": []
  }
 ],
 "metadata": {
  "kernelspec": {
   "display_name": "Python 3",
   "language": "python",
   "name": "python3"
  },
  "language_info": {
   "codemirror_mode": {
    "name": "ipython",
    "version": 3
   },
   "file_extension": ".py",
   "mimetype": "text/x-python",
   "name": "python",
   "nbconvert_exporter": "python",
   "pygments_lexer": "ipython3",
   "version": "3.6.10"
  }
 },
 "nbformat": 4,
 "nbformat_minor": 4
}
