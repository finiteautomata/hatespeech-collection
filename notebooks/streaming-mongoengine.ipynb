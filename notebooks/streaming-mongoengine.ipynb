{
 "cells": [
  {
   "cell_type": "code",
   "execution_count": 1,
   "metadata": {},
   "outputs": [
    {
     "name": "stdout",
     "output_type": "stream",
     "text": [
      "7 apps created\n"
     ]
    }
   ],
   "source": [
    "%load_ext autoreload\n",
    "%autoreload 2\n",
    "\n",
    "from mongoengine import connect\n",
    "from tweepyrate import create_apps\n",
    "import random\n",
    "\n",
    "apps = create_apps(\"../config/my_apps.json\")\n",
    "\n",
    "connect('hatespeech')\n",
    "\n",
    "random.shuffle(apps)"
   ]
  },
  {
   "cell_type": "code",
   "execution_count": 2,
   "metadata": {},
   "outputs": [],
   "source": [
    "import tweepy\n",
    "from hate_collector import ReplyListener\n",
    "\n",
    "\n",
    "queries = [\"racista\", \"misógino\", \"machista\", \"machirulo\"]\n",
    "\n",
    "for i, word in enumerate(queries):\n",
    "    app = apps[i % len(apps)]\n",
    "    \n",
    "    myStreamListener = ReplyListener(word)\n",
    "    myStream = tweepy.Stream(auth = app.auth, listener=myStreamListener)\n",
    "    myStream.filter(track=[word], is_async=True, languages=[\"es\"])"
   ]
  },
  {
   "cell_type": "code",
   "execution_count": 3,
   "metadata": {},
   "outputs": [
    {
     "data": {
      "text/plain": [
       "37"
      ]
     },
     "execution_count": 3,
     "metadata": {},
     "output_type": "execute_result"
    }
   ],
   "source": [
    "from hate_collector.models import Tweet\n",
    "\n",
    "len(Tweet.objects)"
   ]
  },
  {
   "cell_type": "code",
   "execution_count": 12,
   "metadata": {},
   "outputs": [
    {
     "name": "stdout",
     "output_type": "stream",
     "text": [
      "racista    -- @elenavpz1 @asaberquedicen @davidsantosvlog Racista.\n",
      "racista    -- @Caretas No es necesario, acusarlo!!!! Se pinta de cuerpo entero, es racista y punto. Ahora que asuma su posición, que saque el jaboncito y lo use, a ver si se puede \"bañar\" y quedar limpiecito.\n",
      "racista    -- @euricius @P4P1T0_M0N3Y @oscarsh98 @kikosaintchez @vox_es Pues ya está, estamos de acuerdo.\n",
      "\n",
      "Puede que haya algunos que generalicen, claro que sí. Pero por otro lado, luego están los que directamente ignoran el problema y llaman racista y demás a todo aquel que ponga los datos sobre la mesa. 🤷‍♂️\n",
      "racista    -- @brycealcongreso Asqueroso racista\n",
      "racista    -- @elBUDATOM @charolopez Sí. En todo caso sería racismo, porque es una expresión racista. La xenofobia no tiene que ver con el color de piel de otra persona, si no con su nacionalidad. Unir esos dos términos te hace un poquito racista a vos.\n",
      "racista    -- @brycealcongreso @julioarbizu Además de racista y payaso monce al estilo guasón, también eres un cobarde. ESTA ES LA LACRA QUE LOS DELINCUENTES DE @Solidaridad_PSN quieren llevar al congreso. Por que les dan pantalla a unos nn descerebrados que ni siquiera pasaran la valla?\n",
      "racista    -- @brycealcongreso Eres lo que haces y no lo que escribes. Eres racista y lo has demostrado hoy en vivo. Lástima por ti.\n",
      "racista    -- @WaykaPeru @brycealcongreso @julioarbizu 😂 Racista? Yo no le veo nada de eso... Expliquen mejor si dijo algo Racista,de lo contrario Los demandados serán ustedes @WaykaPeru por propalar noticias falsas.\n",
      "machirulo  -- @nereatts Claro, y el cáncer tambien mata a mujeres por ser mujeres, que es muy machirulo el cáncer y sobretodo el español, que el de fuera mata mejor, no seamos racistas.\n",
      "machista   -- @vinadenuncia que rasca, típico el comentario machista escondido detrás de un logo patético. Hay cosas peores contrate abogado que se aprovechan de la información que se les entrega para usarlo en contra de la Alcaldesa, todo xq hay un tipo q la usa y más encima pide plata\n",
      "racista    -- @brycealcongreso @julioarbizu Eres un racista, basura al igual que toda la gente que va contigo por ese partido. 🤮\n",
      "racista    -- @brycealcongreso @julioarbizu Calla racista ctm.\n",
      "racista    -- @brycealcongreso @julioarbizu Calla imbécil... y métete el jabón por donde te acomode. Va a ser increíble verte llorar cuando pierdas... y no pretendo votar por Arbizu, pero esa patanada asquerosa y racista no se le apaña a nadie, más bien debería ser erradicada. El acto y la persona.\n",
      "racista    -- @patarevalo @julioarbizu Hay q ser muy racista para asociar la suciedad con una raza, señora. Lo q hace con su tweet es declarar su racismo. Muy mal.\n",
      "racista    -- @brycealcongreso @julioarbizu Ayyyyy! Tengo amenaza de muerte... Pffff patético, asuma el resultado de sus malas e infantiles acciones \"don racista\" es más, larguese del país, gran ridículo y encima se hacen la víctima.\n",
      "racista    -- @SolCn @julioarbizu ¿Qué puede ser más racista que a acusar de racista a quien regala un jabón? \n",
      "@SolCn debería contarnos a qué “raza” supone que se alude cuando se regala un jabón.\n",
      "racista    -- @evoespueblo Otra vez la basura narcococalera rebuznando\n",
      "Que puedes rebuznar pedazo de imbecil\n",
      "Escoria humana despreciable\n",
      "Pedofilo racista terrorista\n",
      "racista    -- @tonino2009 @contracultural Si, eso es ser racista, te guste o no webas\n",
      "racista    -- @james_shrink @Poolomar1 @miguel957 @IDL_Rivera @FiscaliaPeru Qué linda la peppa. Te insulto y quedó bacán.\n",
      "\n",
      " Más bien explicame por qué regalar jabón me hace un racista.\n",
      "machista   -- @AbreCesar23 Y la Leti una roja dijo uno de estos hace poco porq habló de la violencia machista\n",
      "racista    -- @Absolutexe Madre mía, convirtiendo un vídeo de un invento sin más en un mensaje racista y supremacista. Y para colmo es asiático. Encima FAKE. Qué penoso eres Absolutexe.\n",
      "racista    -- @peru21noticias No creo que sea racista ( eso es pura victimización de JA) pero sí ofensivo y fuera de lugar. Las payasadas están fuera de lugar, evidencian poca preparación y se pierde una buena oportunidad de desenmascarar las tonterías de la izquierda. Por eso estamos como estamos.\n",
      "racista    -- @arianalirad Recordado por caerse de una moto y acosar a una compañera en vivo, q más bajo puede caer este tipo, ah verdad ser racista y mostrarlo al Perú entero...@reniquealexande debería llamarse Estúpidos Nacionales\n",
      "racista    -- @Henrycacu @VN1200KVP @elmundoes bueno bien que critica a las mujeres violadas, bien que se encarga de dejar como enfermos mentales a los gays y bien que dice que el islam es el enemigo... racista no pero xenobofo, machista y homofobo un rato\n"
     ]
    },
    {
     "name": "stderr",
     "output_type": "stream",
     "text": [
      "Exception in thread Thread-4:\n",
      "Traceback (most recent call last):\n",
      "  File \"/home/jmperez/.pyenv/versions/3.6.10/lib/python3.6/threading.py\", line 916, in _bootstrap_inner\n",
      "    self.run()\n",
      "  File \"/home/jmperez/.pyenv/versions/3.6.10/lib/python3.6/threading.py\", line 864, in run\n",
      "    self._target(*self._args, **self._kwargs)\n",
      "  File \"/home/jmperez/.local/share/virtualenvs/hatespeech-collection-qaK7Gomm/lib/python3.6/site-packages/tweepy/streaming.py\", line 320, in _run\n",
      "    six.reraise(*exc_info)\n",
      "  File \"/home/jmperez/.local/share/virtualenvs/hatespeech-collection-qaK7Gomm/lib/python3.6/site-packages/six.py\", line 696, in reraise\n",
      "    raise value\n",
      "  File \"/home/jmperez/.local/share/virtualenvs/hatespeech-collection-qaK7Gomm/lib/python3.6/site-packages/tweepy/streaming.py\", line 289, in _run\n",
      "    self._read_loop(resp)\n",
      "  File \"/home/jmperez/.local/share/virtualenvs/hatespeech-collection-qaK7Gomm/lib/python3.6/site-packages/tweepy/streaming.py\", line 351, in _read_loop\n",
      "    self._data(next_status_obj)\n",
      "  File \"/home/jmperez/.local/share/virtualenvs/hatespeech-collection-qaK7Gomm/lib/python3.6/site-packages/tweepy/streaming.py\", line 323, in _data\n",
      "    if self.listener.on_data(data) is False:\n",
      "  File \"/home/jmperez/.local/share/virtualenvs/hatespeech-collection-qaK7Gomm/lib/python3.6/site-packages/tweepy/streaming.py\", line 54, in on_data\n",
      "    if self.on_status(status) is False:\n",
      "  File \"/home/jmperez/projects/hatespeech-collection/hate_collector/reply_listener.py\", line 21, in on_status\n",
      "    tweet.save()\n",
      "  File \"/home/jmperez/.local/share/virtualenvs/hatespeech-collection-qaK7Gomm/lib/python3.6/site-packages/mongoengine/document.py\", line 392, in save\n",
      "    self.validate(clean=clean)\n",
      "  File \"/home/jmperez/.local/share/virtualenvs/hatespeech-collection-qaK7Gomm/lib/python3.6/site-packages/mongoengine/base/document.py\", line 450, in validate\n",
      "    raise ValidationError(message, errors=errors)\n",
      "mongoengine.errors.ValidationError: ValidationError (Tweet:1214632901352001539) (String value is too long: ['text'])\n",
      "\n"
     ]
    }
   ],
   "source": [
    "for tweet in Tweet.objects:\n",
    "    print(f\"{tweet.query:10} -- {tweet.text}\")"
   ]
  },
  {
   "cell_type": "code",
   "execution_count": null,
   "metadata": {},
   "outputs": [],
   "source": []
  }
 ],
 "metadata": {
  "kernelspec": {
   "display_name": "Python 3",
   "language": "python",
   "name": "python3"
  },
  "language_info": {
   "codemirror_mode": {
    "name": "ipython",
    "version": 3
   },
   "file_extension": ".py",
   "mimetype": "text/x-python",
   "name": "python",
   "nbconvert_exporter": "python",
   "pygments_lexer": "ipython3",
   "version": "3.6.10"
  }
 },
 "nbformat": 4,
 "nbformat_minor": 4
}
