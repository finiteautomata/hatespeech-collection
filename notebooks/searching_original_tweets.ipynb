{
 "cells": [
  {
   "cell_type": "markdown",
   "metadata": {},
   "source": [
    "## Searching original tweets\n",
    "\n",
    "Let's look for the original tweets"
   ]
  },
  {
   "cell_type": "code",
   "execution_count": 1,
   "metadata": {},
   "outputs": [
    {
     "name": "stdout",
     "output_type": "stream",
     "text": [
      "7 apps created\n"
     ]
    }
   ],
   "source": [
    "%load_ext autoreload\n",
    "%autoreload 2\n",
    "from mongoengine import connect\n",
    "from tweepyrate import create_apps\n",
    "\n",
    "client = connect(\"hatespeech\")\n",
    "apps = create_apps(\"../config/my_apps.json\")\n",
    "db = client[\"hatespeech\"]"
   ]
  },
  {
   "cell_type": "code",
   "execution_count": 2,
   "metadata": {},
   "outputs": [
    {
     "data": {
      "text/plain": [
       "[None,\n",
       " 'facha',\n",
       " 'facho',\n",
       " 'fascista',\n",
       " 'machirulo',\n",
       " 'machista',\n",
       " 'misogino',\n",
       " 'misógino',\n",
       " 'racista']"
      ]
     },
     "execution_count": 2,
     "metadata": {},
     "output_type": "execute_result"
    }
   ],
   "source": [
    "db.tweet.find({}).distinct('query')"
   ]
  },
  {
   "cell_type": "code",
   "execution_count": 3,
   "metadata": {},
   "outputs": [],
   "source": [
    "from hate_collector.models import Tweet\n",
    "\n",
    "replies = Tweet.objects(\n",
    "    in_reply_to_status_id__exists= True, \n",
    "    in_reply_to_status_id__ne= None,\n",
    ").limit(10)\n"
   ]
  },
  {
   "cell_type": "code",
   "execution_count": 4,
   "metadata": {},
   "outputs": [
    {
     "name": "stdout",
     "output_type": "stream",
     "text": [
      "================================================================================\n",
      "CON RESPUESTA\n",
      "\n",
      "@asaberquedicen @davidsantosvlog Tiene pinta de español, quemado al sol.\n",
      " ----  @elenavpz1 @asaberquedicen @davidsantosvlog Racista.\n",
      "================================================================================\n",
      "CON RESPUESTA\n",
      "\n",
      "El candidato de Solidaridad Nacional es muy criticado en redes tras su accionar luego de un debate y fue acusado de racista por el mismo Arbizu.\n",
      "https://t.co/QyO8Fq844D\n",
      " ----  @Caretas No es necesario, acusarlo!!!! Se pinta de cuerpo entero, es racista y punto. Ahora que asuma su posición, que saque el jaboncito y lo use, a ver si se puede \"bañar\" y quedar limpiecito.\n",
      "================================================================================\n",
      "CON RESPUESTA\n",
      "\n",
      "@P4P1T0_M0N3Y @1991carles @oscarsh98 @kikosaintchez @vox_es Ojo, me parece bien que se eche al inmigrante que cometa crimenes, es de lógica. Pero creo que se generaliza mucho y mal. Se hace mucho incapié en la nacionalidad de los criminales y eso solo incrementa los prejuicios.\n",
      " ----  @euricius @P4P1T0_M0N3Y @oscarsh98 @kikosaintchez @vox_es Pues ya está, estamos de acuerdo.\n",
      "\n",
      "Puede que haya algunos que generalicen, claro que sí. Pero por otro lado, luego están los que directamente ignoran el problema y llaman racista y demás a todo aquel que ponga los datos sobre la mesa. 🤷‍♂️\n",
      "================================================================================\n",
      "CON RESPUESTA\n",
      "\n",
      "Quiero a los seres humanos de buena voluntad, sean de cualquier raza o condición, porque creo en los valores, en el esfuerzo ciudadano y en mi país y, en esa línea, jamás he discriminado a nadie y jamás lo haré. (1/2)\n",
      " ----  @brycealcongreso Asqueroso racista\n",
      "================================================================================\n",
      "CON RESPUESTA\n",
      "\n",
      "@abortnowski @charolopez porque vos si, no ?\n",
      " ----  @elBUDATOM @charolopez Sí. En todo caso sería racismo, porque es una expresión racista. La xenofobia no tiene que ver con el color de piel de otra persona, si no con su nacionalidad. Unir esos dos términos te hace un poquito racista a vos.\n",
      "================================================================================\n",
      "CON RESPUESTA\n",
      "\n",
      "Quiero hacer público que el señor @julioarbizu hoy me lanzó una amenaza de muerte por atreverme a darle un jabón de cara, el mismo que representa para mí un símbolo de la limpieza en la política y que el aludido quiere llevar a un racismo que jamás he tenido ni tendré. https://t.co/S62L1IdtlB\n",
      " ----  @brycealcongreso @julioarbizu Además de racista y payaso monce al estilo guasón, también eres un cobarde. ESTA ES LA LACRA QUE LOS DELINCUENTES DE @Solidaridad_PSN quieren llevar al congreso. Por que les dan pantalla a unos nn descerebrados que ni siquiera pasaran la valla?\n",
      "================================================================================\n",
      "CON RESPUESTA\n",
      "\n",
      "Quiero a los seres humanos de buena voluntad, sean de cualquier raza o condición, porque creo en los valores, en el esfuerzo ciudadano y en mi país y, en esa línea, jamás he discriminado a nadie y jamás lo haré. (1/2)\n",
      " ----  @brycealcongreso Eres lo que haces y no lo que escribes. Eres racista y lo has demostrado hoy en vivo. Lástima por ti.\n",
      "================================================================================\n",
      "CON RESPUESTA\n",
      "\n",
      "El candidato por Solidaridad Nacional, @brycealcongreso, realizó este acto racista durante un debate en vivo con @julioarbizu. #RacismoEsDelito https://t.co/a91DYAgSOV\n",
      " ----  @WaykaPeru @brycealcongreso @julioarbizu 😂 Racista? Yo no le veo nada de eso... Expliquen mejor si dijo algo Racista,de lo contrario Los demandados serán ustedes @WaykaPeru por propalar noticias falsas.\n",
      "================================================================================\n",
      "CON RESPUESTA\n",
      "\n",
      "Cuando tienes los huevos cuadrados y eres capaz de decir que las mujeres no sufren violencia por ser mujeres y que hombres no asesinan por ser hombres pero que los extranjeros sí lo hacen por ser extranjeros, todo en la misma frase sin que se te despeine la barba. https://t.co/YshE4qkcWT\n",
      " ----  @nereatts Claro, y el cáncer tambien mata a mujeres por ser mujeres, que es muy machirulo el cáncer y sobretodo el español, que el de fuera mata mejor, no seamos racistas.\n",
      "================================================================================\n",
      "CON RESPUESTA\n",
      "\n",
      "Ojo si pasas al lado de Reginato y se te pierde la billetera. https://t.co/EmvH6Vs7i1\n",
      " ----  @vinadenuncia que rasca, típico el comentario machista escondido detrás de un logo patético. Hay cosas peores contrate abogado que se aprovechan de la información que se les entrega para usarlo en contra de la Alcaldesa, todo xq hay un tipo q la usa y más encima pide plata\n"
     ]
    }
   ],
   "source": [
    "from mongoengine import DoesNotExist, NotUniqueError\n",
    "from tweepy import TweepError\n",
    "\n",
    "\n",
    "count = 0\n",
    "for i, tweet in enumerate(replies):\n",
    "    app = apps[i % len(apps)]\n",
    "    print(\"=\"*80)\n",
    "        \n",
    "    try:\n",
    "        \n",
    "        status = app.get_status(tweet[\"in_reply_to_status_id\"], tweet_mode=\"extended\")\n",
    "        print(\"CON RESPUESTA\\n\")\n",
    "        \n",
    "        upstream_tweet = Tweet(**status._json)\n",
    "        upstream_tweet.save()\n",
    "        \n",
    "        print(f\"{upstream_tweet.text}\")\n",
    "        count += 1\n",
    "    except TweepError:\n",
    "        print(\"SIN RESPUESTA\\n\")\n",
    "    print(\" ---- \", tweet[\"text\"])\n",
    "    "
   ]
  },
  {
   "cell_type": "code",
   "execution_count": null,
   "metadata": {},
   "outputs": [],
   "source": []
  }
 ],
 "metadata": {
  "kernelspec": {
   "display_name": "Python 3",
   "language": "python",
   "name": "python3"
  },
  "language_info": {
   "codemirror_mode": {
    "name": "ipython",
    "version": 3
   },
   "file_extension": ".py",
   "mimetype": "text/x-python",
   "name": "python",
   "nbconvert_exporter": "python",
   "pygments_lexer": "ipython3",
   "version": "3.6.10"
  }
 },
 "nbformat": 4,
 "nbformat_minor": 4
}
