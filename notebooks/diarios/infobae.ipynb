{
 "cells": [
  {
   "cell_type": "markdown",
   "metadata": {},
   "source": [
    "# Infobae\n",
    "\n",
    "En esta notebook veremos qué se puede hacer con los artículos de infobae..."
   ]
  },
  {
   "cell_type": "code",
   "execution_count": 2,
   "metadata": {},
   "outputs": [
    {
     "name": "stdout",
     "output_type": "stream",
     "text": [
      "The autoreload extension is already loaded. To reload it, use:\n",
      "  %reload_ext autoreload\n"
     ]
    }
   ],
   "source": [
    "%load_ext autoreload\n",
    "%autoreload 2\n",
    "from mongoengine import connect\n",
    "from tweepyrate import create_apps\n",
    "from hatespeech_models import Tweet, Article\n",
    "\n",
    "client = connect(\"hatespeech-news\")\n",
    "db = client[\"hatespeech-news\"]"
   ]
  },
  {
   "cell_type": "code",
   "execution_count": null,
   "metadata": {},
   "outputs": [],
   "source": [
    "from newspaper import Article as NSArticle\n",
    "url = \"https://www.infobae.com/teleshow/infoshow/2020/05/28/el-contundente-reclamo-de-dady-brieva-a-alberto-fernandez-tenes-que-hacerte-responsable/?utm_medium=Echobox&amp;utm_source=Twitter#Echobox=1590628593\"\n",
    "article = NSArticle(url, language=\"es\")\n",
    "\n",
    "article.download()\n",
    "article.parse()"
   ]
  },
  {
   "cell_type": "code",
   "execution_count": 3,
   "metadata": {},
   "outputs": [
    {
     "data": {
      "text/plain": [
       "\u001b[0;31mSignature:\u001b[0m \u001b[0melem\u001b[0m\u001b[0;34m.\u001b[0m\u001b[0mtext_content\u001b[0m\u001b[0;34m(\u001b[0m\u001b[0;34m)\u001b[0m\u001b[0;34m\u001b[0m\u001b[0;34m\u001b[0m\u001b[0m\n",
       "\u001b[0;31mSource:\u001b[0m   \n",
       "    \u001b[0;32mdef\u001b[0m \u001b[0mtext_content\u001b[0m\u001b[0;34m(\u001b[0m\u001b[0mself\u001b[0m\u001b[0;34m)\u001b[0m\u001b[0;34m:\u001b[0m\u001b[0;34m\u001b[0m\n",
       "\u001b[0;34m\u001b[0m        \u001b[0;34m\"\"\"\u001b[0m\n",
       "\u001b[0;34m        Return the text content of the tag (and the text in any children).\u001b[0m\n",
       "\u001b[0;34m        \"\"\"\u001b[0m\u001b[0;34m\u001b[0m\n",
       "\u001b[0;34m\u001b[0m        \u001b[0;32mreturn\u001b[0m \u001b[0m_collect_string_content\u001b[0m\u001b[0;34m(\u001b[0m\u001b[0mself\u001b[0m\u001b[0;34m)\u001b[0m\u001b[0;34m\u001b[0m\u001b[0;34m\u001b[0m\u001b[0m\n",
       "\u001b[0;31mFile:\u001b[0m      ~/.local/share/virtualenvs/hatespeech-collection-qaK7Gomm/lib/python3.6/site-packages/lxml/html/__init__.py\n",
       "\u001b[0;31mType:\u001b[0m      method\n"
      ]
     },
     "metadata": {},
     "output_type": "display_data"
    }
   ],
   "source": [
    "elem = article.doc.get_element_by_id(\"article-content\")\n",
    "\n",
    "elem.text_content??"
   ]
  },
  {
   "cell_type": "code",
   "execution_count": 4,
   "metadata": {},
   "outputs": [
    {
     "name": "stdout",
     "output_type": "stream",
     "text": [
      "El pedido de Dady Brieva a Alberto Fernández: \"Tenés que hacerte responsable\"\n",
      "\n",
      "\n",
      "\n",
      "Rubén Enrique “Dady” Brieva le envió un mensaje enérgico al presidente Alberto Fernández desde su programa de radio, Volver Mejores, que se emite en El Destape. Fiel a su estilo, el actor analizó una tendencia que se instaló ayer en redes sociales (#EsAhoraAlberto) en donde se acumularon ideas y solicitudes al gobierno nacional de reformas radicales e intimó al jefe de Estado a avanzar con políticas públicas que -según consideró- son esperadas por los votantes del Frente de Todos. “Tenés que hacerte responsable”, le exigió.\n",
      "\n",
      "El editorial incluyó un pedido para remover fiscales, encarcelar ex funcionarios, intervenir medios de comunicación y avanzar sobre la libertad de prensa. Y cerró con un mensaje sobre el futuro de la Argentina: “Sí o sí vamos a ser Venezuela”.\n",
      "\n",
      "“Cuando volvimos, creí que no iban a estar más los que estaban. Creí que se iba a investigar. Me dio ilusión eso. Yo sé que no es fácil, pero no me quiero quedar con que no es fácil. Tengo la sensación de que si no investigamos, no juzgamos, no encarcelamos, no intervenimos a evasores, medios, fugadores, comunicadores, justicia y entidades financieras, fuimos”, introdujo el humorista.\n",
      "\n",
      "Y continuó, hablándole directamente al Presidente: “Vos fuiste elegido, amigo, vos sos el responsable; sé que estás haciendo muchas cosas y todos los dirigentes están haciendo muchas cosas, pero no se puede más”. “Stornelli sigue trabajando, los tipos se van... ¿hay posibilidades de investigarlo? Los periodistas siguen hablando como si nada ocurriera. Tiran piedras, tiran piedras, tiran piedras...”, continuó.\n",
      "\n",
      "Carlos Stornelli es uno de los fiscales que investigó la corrupción kirchnerista en los últimos años. Recientemente, imputó al titular de la Oficina Anticorrupción -un funcionario designado por Alberto Fernández- por haber retirado acusaciones en los casos Hotesur y Los Sauces.\n",
      "\n",
      "El mensaje del actor continuó con un análisis sobre los críticos que comparan algunas políticas impulsadas en la Argentina con la situación de Venezuela. La conductora Susana Giménez fue una de las personas que recientemente dijo que teme que el país se termine transformando en una nación similar a la gobernada por la dictadura de Nicolás Maduro en una entrevista concedida al periodista Luis Novaresio.\n",
      "\n",
      "“Hagamos lo que hagamos, siempre vamos a ser Venezuela, los cubanos, el populismo.... Todos esos neologismos que inventaron ellos y para mí no son nada. Y la verdad que si vamos a terminar como Venezuela... si tarde o temprano vamos a ser Venezuela, seamos Venezuela ahora, loco. Punto. Ya está. Seamos Venezuela ahora”, pidió.\n",
      "\n",
      "Dady Brieva instó al Presidente a avanzar contra opositores, periodistas y fiscales\n",
      "\n",
      "\n",
      "\n",
      "Brieva intentó graficar sus sentimientos. Comparó a Alberto Fernández con un profesor que lleva a sus alumnos a un picnic y en medio de una tormenta -la pandemia de coronavirus- aparecen los mosquitos, personas y elementos de poder que según la lectura del integrante de Midachi atentan contra los planes del gobierno de mejorar la calidad de vida de la ciudadanía y deben ser neutralizados.\n",
      "\n",
      "“Hace días que pienso que a nuestro querido Alberto le dieron para hacer la comida y para darnos de comer en un picnic. Somos todos chicos en un picnic y él es el profe de educación física. Se larga a llover, la pandemia, una cosa que no teníamos prevista. Y además hay mosquitos. Él está tratando de hacer todo, de guarecernos, de poner carpitas... Todo junto. Pero Alberto y nuestros dirigentes se tienen que dar cuenta de que hasta que no busquemos un lugar donde guarecernos y neutralicemos los mosquitos, no nos van a dar de comer tranquilos”, desarrolló.\n",
      "\n",
      "No es la primera vez que Brieva realiza comentarios políticos polémicos. Una de sus propuestas que más repudios cosechó fue la de conformar una CONADEP del periodismo que analice la tarea de los comunicadores y los medios durante el gobierno de Mauricio Macri. Con su idea, asimiló los crímenes de la dictadura militar con el trabajo de la prensa. “No deberían salir indemnes y deberían enfrentar un juicio”, planteó.\n",
      "\n",
      "Si bien en su momento ensayó una aclaración y un pedido de disculpas, ahora el conductor volvió con su idea de intervenir medios y censurar periodistas. Pidió “urgentemente” regular “qué es lo que se dice”. Para fundamentar su peligrosa idea, recordó que en los Estados Unidos el gobierno intervino para evitar que se difundieran algunas imágenes sobre el atentado a las Torres Gemelas producido en 2001.\n",
      "\n",
      "“Tarde o temprano viene la palabra mágica... ¿Qué hacemos con esto? Y ellos siguen tirando piedras... Y salen a la calle. Y viene la autoridad. Y se va, y vienen. Los fiscales siguen como si nada hubiese pasado y los periodistas siguen como si nada hubiese pasado. Necesitamos urgente regular qué es lo que se dice como pasó con los Estados Unidos con las Torres Gemelas. Tenemos que regular esto”.\n",
      "\n",
      "Y una vez más, para cerrar su comentario, se refirió a las comparaciones con Venezuela e instó al Presidente a adoptar un camino similar: “Sí o sí vamos a ser Venezuela, sí o sí tenemos que ser populismo. Empecemos ahora y terminemos con esta agónica espera”.\n",
      "\n",
      "La idea sobre la CONADEP del periodismo y el editorial de ayer forman parte de una larga lista de apariciones públicas que generaron polémica. El año pasado, cuando le consultaron por sus críticos, contestó con un exabrupto: “Me chupan la pija”.\n",
      "\n",
      "Seguí leyendo\n"
     ]
    }
   ],
   "source": [
    "\"\"\"\n",
    "Busco el elemento donde está todo el contenido\n",
    "\"\"\"\n",
    "elem = article.doc.get_element_by_id(\"article-content\")\n",
    "\n",
    "\"\"\"\n",
    "Esto es código particular de infobae\n",
    "Saco los links que están al pie de la nota\n",
    "\"\"\"\n",
    "children = list(elem.getchildren())\n",
    "\n",
    "last = children[-1]\n",
    "\n",
    "while len(list(children[-1].iter(\"a\"))) > 0:\n",
    "    children.pop(-1)\n",
    "    \n",
    "\"\"\"\n",
    "Me quedo con el texto\n",
    "\"\"\"\n",
    "text_children = [t for t in children if t.tag not in [\"meta\", \"script\"]]\n",
    "text = \"\\n\\n\".join(t.text_content().strip() for t in text_children)\n",
    "\n",
    "print(text.strip())"
   ]
  },
  {
   "cell_type": "markdown",
   "metadata": {},
   "source": [
    "## Noticias repetidas"
   ]
  }
 ],
 "metadata": {
  "kernelspec": {
   "display_name": "Python 3",
   "language": "python",
   "name": "python3"
  },
  "language_info": {
   "codemirror_mode": {
    "name": "ipython",
    "version": 3
   },
   "file_extension": ".py",
   "mimetype": "text/x-python",
   "name": "python",
   "nbconvert_exporter": "python",
   "pygments_lexer": "ipython3",
   "version": "3.6.10"
  }
 },
 "nbformat": 4,
 "nbformat_minor": 4
}
