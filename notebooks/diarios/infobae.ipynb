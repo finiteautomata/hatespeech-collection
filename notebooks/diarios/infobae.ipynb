{
 "cells": [
  {
   "cell_type": "markdown",
   "metadata": {},
   "source": [
    "# Infobae\n",
    "\n",
    "En esta notebook veremos qué se puede hacer con los artículos de infobae..."
   ]
  },
  {
   "cell_type": "code",
   "execution_count": 2,
   "metadata": {},
   "outputs": [
    {
     "name": "stdout",
     "output_type": "stream",
     "text": [
      "The autoreload extension is already loaded. To reload it, use:\n",
      "  %reload_ext autoreload\n"
     ]
    }
   ],
   "source": [
    "%load_ext autoreload\n",
    "%autoreload 2\n",
    "from mongoengine import connect\n",
    "from tweepyrate import create_apps\n",
    "from hatespeech_models import Tweet, Article\n",
    "\n",
    "client = connect(\"hatespeech-news\")\n",
    "db = client[\"hatespeech-news\"]"
   ]
  },
  {
   "cell_type": "code",
   "execution_count": 3,
   "metadata": {},
   "outputs": [
    {
     "data": {
      "text/plain": [
       "{'users': ['LANACION', 'clarincom', 'cronica', 'infobae', 'perfilcom'],\n",
       " 'min_date': '2020-02-10T00:00:00Z',\n",
       " 'search_terms': ['coronavirus',\n",
       "  'covid',\n",
       "  'cuarentena',\n",
       "  'normalidad',\n",
       "  'aislamiento ',\n",
       "  'padecimiento',\n",
       "  'encierro',\n",
       "  'fase',\n",
       "  'infectados',\n",
       "  'Wuhan',\n",
       "  'distanciamiento',\n",
       "  'fiebre',\n",
       "  'síntomas',\n",
       "  'dengue',\n",
       "  'aedes',\n",
       "  'mosquito',\n",
       "  'cacharro']}"
      ]
     },
     "execution_count": 3,
     "metadata": {},
     "output_type": "execute_result"
    }
   ],
   "source": [
    "import json\n",
    "with open(\"../../config/query_2.0.json\") as f:\n",
    "    query = json.load(f) \n",
    "\n",
    "query"
   ]
  },
  {
   "cell_type": "code",
   "execution_count": 6,
   "metadata": {},
   "outputs": [
    {
     "data": {
      "text/plain": [
       "8639"
      ]
     },
     "execution_count": 6,
     "metadata": {},
     "output_type": "execute_result"
    }
   ],
   "source": [
    "import datetime\n",
    "\n",
    "min_date = datetime.datetime.strptime(query[\"min_date\"], \"%Y-%m-%dT%H:%M:%SZ\")\n",
    "text_query = \" \".join(query[\"search_terms\"])\n",
    "\n",
    "articles = Article.objects(\n",
    "    user=\"infobae\",\n",
    "    created_at__gte=min_date\n",
    ").search_text(text_query)\n",
    "\n",
    "articles.count()"
   ]
  },
  {
   "cell_type": "code",
   "execution_count": 7,
   "metadata": {},
   "outputs": [
    {
     "name": "stderr",
     "output_type": "stream",
     "text": [
      "/home/jmperez/.local/share/virtualenvs/hatespeech-collection-qaK7Gomm/lib/python3.6/site-packages/pandas/compat/__init__.py:117: UserWarning: Could not import the lzma module. Your installed Python is incomplete. Attempting to use lzma compression will result in a RuntimeError.\n",
      "  warnings.warn(msg)\n"
     ]
    },
    {
     "data": {
      "text/plain": [
       "<matplotlib.axes._subplots.AxesSubplot at 0x7f2b572dd400>"
      ]
     },
     "execution_count": 7,
     "metadata": {},
     "output_type": "execute_result"
    },
    {
     "data": {
      "image/png": "[encoded data removed]",
      "text/plain": [
       "<Figure size 432x288 with 1 Axes>"
      ]
     },
     "metadata": {
      "needs_background": "light"
     },
     "output_type": "display_data"
    }
   ],
   "source": [
    "from hate_collector.plot import distplot_dates\n",
    "\n",
    "dates = [art[\"created_at\"] for art in articles]\n",
    "\n",
    "distplot_dates(dates)"
   ]
  },
  {
   "cell_type": "markdown",
   "metadata": {},
   "source": [
    "Ok! Tenemos un problema a partir del ... 20 de Junio?"
   ]
  },
  {
   "cell_type": "code",
   "execution_count": 8,
   "metadata": {},
   "outputs": [],
   "source": [
    "missing_articles = Tweet.objects(\n",
    "    user_name=\"infobae\", \n",
    "    in_reply_to_status_id=None,\n",
    "    retweeted_status=None,\n",
    "    created_at__gte=datetime.datetime(2020, 6, 24)\n",
    ").as_pymongo()"
   ]
  },
  {
   "cell_type": "code",
   "execution_count": 9,
   "metadata": {},
   "outputs": [
    {
     "data": {
      "text/plain": [
       "'Conmovedora propuesta de casamiento de un joven italiano en el lecho de muerte de su novia https://t.co/sPVzoSwr8Z'"
      ]
     },
     "execution_count": 9,
     "metadata": {},
     "output_type": "execute_result"
    }
   ],
   "source": [
    "tweet = missing_articles[0]\n",
    "\n",
    "\n",
    "news_url = tweet[\"entities\"][\"urls\"][0][\"expanded_url\"]\n",
    "user_name = tweet[\"user_name\"]\n",
    "\n",
    "\n",
    "tweet[\"text\"]"
   ]
  },
  {
   "cell_type": "code",
   "execution_count": 10,
   "metadata": {},
   "outputs": [
    {
     "data": {
      "text/plain": [
       "'https://www.infobae.com/america/mundo/2020/06/23/la-conmovedora-propuesta-de-casamiento-de-un-joven-italiano-en-el-lecho-de-muerte-de-su-novia/?utm_medium=Echobox&utm_source=Twitter#Echobox=1592938640'"
      ]
     },
     "execution_count": 10,
     "metadata": {},
     "output_type": "execute_result"
    }
   ],
   "source": [
    "news_url"
   ]
  },
  {
   "cell_type": "code",
   "execution_count": 14,
   "metadata": {},
   "outputs": [
    {
     "data": {
      "text/plain": [
       "832174434853146624 - infobae\n",
       "Sergio Massa: \"Le exigimos al Presidente la derogación del decreto que rebaja las jubilaciones\"\n",
       "\n",
       "(2 comentarios)\n",
       "Tweet:\n",
       "Massa: \"Exigimos que el Presidente derogue el decreto que rebaja las jubilaciones\" https://t.co/NpP34CsmhO https://t.co/r6vR2hVTv5\n",
       "    "
      ]
     },
     "execution_count": 14,
     "metadata": {},
     "output_type": "execute_result"
    }
   ],
   "source": [
    "Article.objects(user=\"infobae\")[0]"
   ]
  },
  {
   "cell_type": "code",
   "execution_count": 11,
   "metadata": {},
   "outputs": [],
   "source": [
    "import newspaper as ns\n",
    "\n",
    "article = ns.Article(news_url)\n",
    "article.download()\n",
    "article.parse()"
   ]
  },
  {
   "cell_type": "code",
   "execution_count": 37,
   "metadata": {},
   "outputs": [
    {
     "name": "stdout",
     "output_type": "stream",
     "text": [
      "-1\n"
     ]
    }
   ],
   "source": [
    "from hate_collector.article import body_getters\n",
    "\n",
    "if article.doc.cssselect(\"pija\"):\n",
    "    1\n",
    "else:\n",
    "    print(-1)"
   ]
  },
  {
   "cell_type": "code",
   "execution_count": 34,
   "metadata": {},
   "outputs": [],
   "source": [
    "from hate_collector.article import download_article\n",
    "\n",
    "download_article(missing_articles[0])"
   ]
  },
  {
   "cell_type": "code",
   "execution_count": null,
   "metadata": {},
   "outputs": [],
   "source": []
  },
  {
   "cell_type": "code",
   "execution_count": null,
   "metadata": {},
   "outputs": [],
   "source": [
    "for art in articles.limit(30):\n",
    "    print(\"=\"*80 +'\\n\\n')\n",
    "    print(art.created_at, '\\n\\n')\n",
    "    print(art.title, \"\\n\\n\")\n",
    "    print(f\"comentarios: {len(art['comments'])}\")\n",
    "    print(art.url, \"\\n\\n\")\n",
    "    print(\":\"*30, '\\n\\n')\n",
    "    print(art.body)"
   ]
  },
  {
   "cell_type": "code",
   "execution_count": 55,
   "metadata": {},
   "outputs": [],
   "source": [
    "from newspaper import Article as NSArticle\n",
    "url = \"https://www.infobae.com/politica/2020/07/31/jose-maria-campagnoli-que-este-beraldi-en-la-comision-es-un-mensaje-para-los-jueces-que-juzgan-a-cristina-kirchner/\"\n",
    "article = NSArticle(url, language=\"es\")\n",
    "\n",
    "article.download()\n",
    "article.parse()"
   ]
  },
  {
   "cell_type": "code",
   "execution_count": 53,
   "metadata": {},
   "outputs": [
    {
     "name": "stdout",
     "output_type": "stream",
     "text": [
      "El fiscal José María Campagnoli (NA)\n",
      "\n",
      "El fiscal de distrito de Saavedra, José María Campagnoli, está en contra de la reforma judicial que esta semana presentó el gobierno de Alberto Fernández. “ Es un despilfarro de dinero en este contexto de miseria porque estamos en la peor crisis económica del país ”, dijo en diálogo con Infobae. Recordó el proyecto que había elaborado en los primeros años del gobierno de Néstor Kirchner cuando era funcionario del Ministerio de Justicia cuando al frente estaba Gustavo Béliz.\n",
      "\n",
      "“Iban a haber unos 80 juzgados de primera instancia del crimen organizado y se ampliaba la competencia que llegaba hasta la ciudad de Rosario y el conurbano bonaerense, que es el corredor donde se cometen la mayor cantidad de delitos organizados. Eso era a costo cero no esta elefantística reforma que tiene previsto el nombramiento de más de 200 jueces”, recordó sobre esa iniciativa.\n",
      "\n",
      "También opinó que la Corte debe tener cinco integrantes, que no se debe dividir en salas y que sí se le deben estipular plazos para resolver las causas.\n",
      "\n",
      "- ¿Cuál es su opinión sobre el proyecto de reforma judicial al fuero federal?\n",
      "\n",
      "- Me parece que es una mala noticia para los argentinos. Es un despilfarro de dinero en este contexto de miseria porque estamos en la peor crisis económica del país. No podemos resolver el pago con nuestros acreedores y nos vamos a embarcar en esta faraónica reforma que es una colonización de la justicia federal peor que en el menemismo . Y algunos pueden leer esto como una amnistía para las causas de corrupción que se están tramitando.\n",
      "\n",
      "Quiero aclarar, porque en algún medio salió que no tuve ninguna participación en este proyecto. Sí la tuve en 2003 y 2004 cuando formé parte del Ministerio de Justicia con el doctor Gustavo Béliz (NdA: actual secretario de Asuntos Estratégicos de la Presidencia). Lo que habíamos pensado era la fusión de los 12 juzgados federales de Comodoro Py, la Cámara Federal y los Tribunales Orales Federales con todos los juzgados criminales de instrucción, su Cámara, los Tribunales Orales Criminales y los juzgados de Ejecución. Iban a haber unos 80 juzgados de primera instancia del crimen organizado y se ampliaba la competencia que llegaba hasta la ciudad de Rosario y el conurbano bonaerense, que es el corredor donde se cometen la mayor cantidad de delitos organizados. Eso era a costo cero, no esta elefantística reforma que tiene previsto el nombramiento de más de 200 jueces.\n",
      "\n",
      "- ¿Por qué no avanzó la reforma de Béliz?\n",
      "\n",
      "Llegó a una instancia en donde el presidente Néstor Kirchner hizo el anuncio en el Salón Blanco. Era una arista dentro de lo que llamábamos el plan integral de seguridad. Tenía la parte judicial y la creación de una agencia federal de investigaciones que buscaba profesionalizar a los investigadores, como un FBI. Y entiendo que había muchos actores a los que no les gustaba. A los primeros que no le gustaba era a los jueces de Comodoro Py que perdían poder. Otros que perdían, en una mirada mezquina, era la Policía Federal y la ex SIDE. En este país ocurre un atentado gravísimo y la investigación ¿está en manos de quién?, ¿qué organismos tiene el prestigio para que nadie discuta lo que se resuelva? Acá pasa algo grave y se mira quién es el fiscal y el juez de turno y depende de quién sea se dice va para acá o va para allá. Eso buscábamos cambiar.\n",
      "\n",
      "La presentación de la reforma judicial\n",
      "\n",
      "- ¿No cree entonces que Comodoro Py debe ser reformado?\n",
      "\n",
      "Hay muchas cosas para reformar. Pero no creo que sea algo prioritario en esta época de pandemia . Es un despilfarro en este contexto de miseria cuando ya había un plan que era a costo cero . En Comodoro Py hay 12 juzgados, tres vacantes. Con la designación de Alberto Beraldi, que es el abogado de Cristina Kirchner, ya ves una pauta de cómo pueden cubrirse esos juzgados con gente afín. La reforma le da una herramienta Poder Ejecutivo de nombrar más de 200 jueces federales en todo el país. Si no estamos viendo esto con la seriedad que requiere, es un lastre que atrasa 30 años. Una reforma requiere de un estudio más amplio. No fueron consultadas las asociaciones de jueces y fiscales. Les consultaron a los abogados defensores, como Beraldi o Arslanian, que son muy buenos en lo técnico. ¿Pero qué mirada le van a tener? La del defensor que es la de lograr una mejor defensa. Si me consultan a mí como fiscal voy a tener la mirada de que no haya impunidad.\n",
      "\n",
      "- Otro aspecto es la creación de una Comisión para analizar el funcionamiento de la Corte Suprema de Justicia y de los Ministerios Públicos y se puso en debate la cantidad de integrantes del máximo tribunal y su división en salas. ¿Qué opina?\n",
      "\n",
      "Coincido con Fernández y con Cristina Kirchner cuando dijeron que la Corte debería tener cinco miembros. Sin ser un experto en el tema, en ningún país del mundo se toca a la Corte Suprema como acá. Ahora parecería que están pensando en ampliar en salas, en más miembros. ¿La pregunta es para qué? ¿Alguien piensa que mas miembros le va a dar más eficacia y velocidad? Creo que no. El único tema de la Corte es el control de constitucionalidad de los fallos de los jueces. Si ponemos salas, va a ser un sistema más engorroso. La Corte es el intérprete final de la Constitución Nacional y ese es su única temática. También creo que esta embestida de poner al doctor Beraldi en la comisión es un mensaje del gobierno a los jueces que hoy están juzgando a la vicepresidente. Es una forma tangencial de intervenir en las causas.\n",
      "\n",
      "José Campagnoli (NA)\n",
      "\n",
      "- La Corte no tiene plazos para resolver las causas. ¿Debería tenerlo?\n",
      "\n",
      "Me parece que el tema de los plazos es muy interesante. Yo creo que sí debe tenerlos. La Corte de Estados Unidos dice cada año qué temas considera a tratar y cuáles no. Acá se habla de una ampliación de la aplicación del recurso extraordinario federal. Pero eso va a contribuir a colapsar más su funcionamiento. La Corte no es un tribunal más de apelación.\n",
      "\n",
      "- ¿Cree que hay que hacer modificaciones al funcionamiento del Ministerio Público Fiscal?\n",
      "\n",
      "Creo que los fiscales damos un servicio bastante digno en general. Me parece que el trabajo de los fiscales se choca muchas veces con la interminable cantidad de recursos que hacen que un caso tarde mucho en llegar a una sentencia firme, ya sea condenatoria o absolutoria. El Código Procesal Penal es como el juego de la oca, lo que está bien porque hay que respetar las garantías. Pero la gente no entiende porque ante un condena es como que no estuviese condenado. Y en eso los fiscales no tenemos mucho que hacer. No me parece que el punto flojo del sistema judicial sean los fiscales.\n"
     ]
    }
   ],
   "source": [
    "print(article.text)"
   ]
  },
  {
   "cell_type": "code",
   "execution_count": 54,
   "metadata": {},
   "outputs": [
    {
     "name": "stdout",
     "output_type": "stream",
     "text": [
      "El fiscal de distrito de Saavedra, José María Campagnoli, está en contra de la reforma judicial que esta semana presentó el gobierno de Alberto Fernández. “Es un despilfarro de dinero en este contexto de miseria porque estamos en la peor crisis económica del país”, dijo en diálogo con Infobae. Recordó el proyecto que había elaborado en los primeros años del gobierno de Néstor Kirchner cuando era funcionario del Ministerio de Justicia cuando al frente estaba Gustavo Béliz.\n",
      "\n",
      "“Iban a haber unos 80 juzgados de primera instancia del crimen organizado y se ampliaba la competencia que llegaba hasta la ciudad de Rosario y el conurbano bonaerense, que es el corredor donde se cometen la mayor cantidad de delitos organizados. Eso era a costo cero no esta elefantística reforma que tiene previsto el nombramiento de más de 200 jueces”, recordó sobre esa iniciativa.\n",
      "\n",
      "También opinó que la Corte debe tener cinco integrantes, que no se debe dividir en salas y que sí se le deben estipular plazos para resolver las causas.\n",
      "\n",
      "- ¿Cuál es su opinión sobre el proyecto de reforma judicial al fuero federal?\n",
      "\n",
      "- Me parece que es una mala noticia para los argentinos. Es un despilfarro de dinero en este contexto de miseria porque estamos en la peor crisis económica del país. No podemos resolver el pago con nuestros acreedores y nos vamos a embarcar en esta faraónica reforma que es una colonización de la justicia federal peor que en el menemismo. Y algunos pueden leer esto como una amnistía para las causas de corrupción que se están tramitando.\n",
      "\n",
      "Quiero aclarar, porque en algún medio salió que no tuve ninguna participación en este proyecto. Sí la tuve en 2003 y 2004 cuando formé parte del Ministerio de Justicia con el doctor Gustavo Béliz (NdA: actual secretario de Asuntos Estratégicos de la Presidencia). Lo que habíamos pensado era la fusión de los 12 juzgados federales de Comodoro Py, la Cámara Federal y los Tribunales Orales Federales con todos los juzgados criminales de instrucción, su Cámara, los Tribunales Orales Criminales y los juzgados de Ejecución. Iban a haber unos 80 juzgados de primera instancia del crimen organizado y se ampliaba la competencia que llegaba hasta la ciudad de Rosario y el conurbano bonaerense, que es el corredor donde se cometen la mayor cantidad de delitos organizados. Eso era a costo cero, no esta elefantística reforma que tiene previsto el nombramiento de más de 200 jueces.\n",
      "\n",
      "- ¿Por qué no avanzó la reforma de Béliz?\n",
      "\n",
      "Llegó a una instancia en donde el presidente Néstor Kirchner hizo el anuncio en el Salón Blanco. Era una arista dentro de lo que llamábamos el plan integral de seguridad. Tenía la parte judicial y la creación de una agencia federal de investigaciones que buscaba profesionalizar a los investigadores, como un FBI. Y entiendo que había muchos actores a los que no les gustaba. A los primeros que no le gustaba era a los jueces de Comodoro Py que perdían poder. Otros que perdían, en una mirada mezquina, era la Policía Federal y la ex SIDE. En este país ocurre un atentado gravísimo y la investigación ¿está en manos de quién?, ¿qué organismos tiene el prestigio para que nadie discuta lo que se resuelva? Acá pasa algo grave y se mira quién es el fiscal y el juez de turno y depende de quién sea se dice va para acá o va para allá. Eso buscábamos cambiar.\n",
      "\n",
      "- ¿No cree entonces que Comodoro Py debe ser reformado?\n",
      "\n",
      "Hay muchas cosas para reformar. Pero no creo que sea algo prioritario en esta época de pandemia. Es un despilfarro en este contexto de miseria cuando ya había un plan que era a costo cero. En Comodoro Py hay 12 juzgados, tres vacantes. Con la designación de Alberto Beraldi, que es el abogado de Cristina Kirchner, ya ves una pauta de cómo pueden cubrirse esos juzgados con gente afín. La reforma le da una herramienta Poder Ejecutivo de nombrar más de 200 jueces federales en todo el país. Si no estamos viendo esto con la seriedad que requiere, es un lastre que atrasa 30 años. Una reforma requiere de un estudio más amplio. No fueron consultadas las asociaciones de jueces y fiscales. Les consultaron a los abogados defensores, como Beraldi o Arslanian, que son muy buenos en lo técnico. ¿Pero qué mirada le van a tener? La del defensor que es la de lograr una mejor defensa. Si me consultan a mí como fiscal voy a tener la mirada de que no haya impunidad.\n",
      "\n",
      "- Otro aspecto es la creación de una Comisión para analizar el funcionamiento de la Corte Suprema de Justicia y de los Ministerios Públicos y se puso en debate la cantidad de integrantes del máximo tribunal y su división en salas. ¿Qué opina?\n",
      "\n",
      "Coincido con Fernández y con Cristina Kirchner cuando dijeron que la Corte debería tener cinco miembros. Sin ser un experto en el tema, en ningún país del mundo se toca a la Corte Suprema como acá. Ahora parecería que están pensando en ampliar en salas, en más miembros. ¿La pregunta es para qué? ¿Alguien piensa que mas miembros le va a dar más eficacia y velocidad? Creo que no. El único tema de la Corte es el control de constitucionalidad de los fallos de los jueces. Si ponemos salas, va a ser un sistema más engorroso. La Corte es el intérprete final de la Constitución Nacional y ese es su única temática. También creo que esta embestida de poner al doctor Beraldi en la comisión es un mensaje del gobierno a los jueces que hoy están juzgando a la vicepresidente. Es una forma tangencial de intervenir en las causas.\n",
      "\n",
      "- La Corte no tiene plazos para resolver las causas. ¿Debería tenerlo?\n",
      "\n",
      "Me parece que el tema de los plazos es muy interesante. Yo creo que sí debe tenerlos. La Corte de Estados Unidos dice cada año qué temas considera a tratar y cuáles no. Acá se habla de una ampliación de la aplicación del recurso extraordinario federal. Pero eso va a contribuir a colapsar más su funcionamiento. La Corte no es un tribunal más de apelación.\n",
      "\n",
      "- ¿Cree que hay que hacer modificaciones al funcionamiento del Ministerio Público Fiscal?\n",
      "\n",
      "Creo que los fiscales damos un servicio bastante digno en general. Me parece que el trabajo de los fiscales se choca muchas veces con la interminable cantidad de recursos que hacen que un caso tarde mucho en llegar a una sentencia firme, ya sea condenatoria o absolutoria. El Código Procesal Penal es como el juego de la oca, lo que está bien porque hay que respetar las garantías. Pero la gente no entiende porque ante un condena es como que no estuviese condenado. Y en eso los fiscales no tenemos mucho que hacer. No me parece que el punto flojo del sistema judicial sean los fiscales.\n"
     ]
    }
   ],
   "source": [
    "elem = article.doc.cssselect(\"article\")[0]\n",
    "\n",
    "children = list(elem.getchildren())\n",
    "\n",
    "\n",
    "text_children = [c for c in children if c.tag == \"p\"]\n",
    "\n",
    "text = \"\\n\\n\".join(t.text_content().strip() for t in text_children)\n",
    "\n",
    "print(text)"
   ]
  },
  {
   "cell_type": "code",
   "execution_count": 38,
   "metadata": {},
   "outputs": [
    {
     "name": "stderr",
     "output_type": "stream",
     "text": [
      "[autoreload of hate_collector.article failed: Traceback (most recent call last):\n",
      "  File \"/home/jmperez/.local/share/virtualenvs/hatespeech-collection-qaK7Gomm/lib/python3.6/site-packages/IPython/extensions/autoreload.py\", line 245, in check\n",
      "    superreload(m, reload, self.old_objects)\n",
      "  File \"/home/jmperez/.local/share/virtualenvs/hatespeech-collection-qaK7Gomm/lib/python3.6/site-packages/IPython/extensions/autoreload.py\", line 394, in superreload\n",
      "    module = reload(module)\n",
      "  File \"/home/jmperez/.local/share/virtualenvs/hatespeech-collection-qaK7Gomm/lib/python3.6/imp.py\", line 315, in reload\n",
      "    return importlib.reload(module)\n",
      "  File \"/home/jmperez/.local/share/virtualenvs/hatespeech-collection-qaK7Gomm/lib/python3.6/importlib/__init__.py\", line 166, in reload\n",
      "    _bootstrap._exec(spec, module)\n",
      "  File \"<frozen importlib._bootstrap>\", line 618, in _exec\n",
      "  File \"<frozen importlib._bootstrap_external>\", line 674, in exec_module\n",
      "  File \"<frozen importlib._bootstrap_external>\", line 781, in get_code\n",
      "  File \"<frozen importlib._bootstrap_external>\", line 741, in source_to_code\n",
      "  File \"<frozen importlib._bootstrap>\", line 219, in _call_with_frames_removed\n",
      "  File \"/home/jmperez/projects/hatespeech-collection/hate_collector/article.py\", line 13\n",
      "    if doc.cssselect(\"#article-content\")\n",
      "                                       ^\n",
      "SyntaxError: invalid syntax\n",
      "]\n"
     ]
    },
    {
     "ename": "KeyError",
     "evalue": "'article-content'",
     "output_type": "error",
     "traceback": [
      "\u001b[0;31m---------------------------------------------------------------------------\u001b[0m",
      "\u001b[0;31mIndexError\u001b[0m                                Traceback (most recent call last)",
      "\u001b[0;32m~/.local/share/virtualenvs/hatespeech-collection-qaK7Gomm/lib/python3.6/site-packages/lxml/html/__init__.py\u001b[0m in \u001b[0;36mget_element_by_id\u001b[0;34m(self, id, *default)\u001b[0m\n\u001b[1;32m    407\u001b[0m             \u001b[0;31m# browsers just return the first one\u001b[0m\u001b[0;34m\u001b[0m\u001b[0;34m\u001b[0m\u001b[0;34m\u001b[0m\u001b[0m\n\u001b[0;32m--> 408\u001b[0;31m             \u001b[0;32mreturn\u001b[0m \u001b[0m_id_xpath\u001b[0m\u001b[0;34m(\u001b[0m\u001b[0mself\u001b[0m\u001b[0;34m,\u001b[0m \u001b[0mid\u001b[0m\u001b[0;34m=\u001b[0m\u001b[0mid\u001b[0m\u001b[0;34m)\u001b[0m\u001b[0;34m[\u001b[0m\u001b[0;36m0\u001b[0m\u001b[0;34m]\u001b[0m\u001b[0;34m\u001b[0m\u001b[0;34m\u001b[0m\u001b[0m\n\u001b[0m\u001b[1;32m    409\u001b[0m         \u001b[0;32mexcept\u001b[0m \u001b[0mIndexError\u001b[0m\u001b[0;34m:\u001b[0m\u001b[0;34m\u001b[0m\u001b[0;34m\u001b[0m\u001b[0m\n",
      "\u001b[0;31mIndexError\u001b[0m: list index out of range",
      "\nDuring handling of the above exception, another exception occurred:\n",
      "\u001b[0;31mKeyError\u001b[0m                                  Traceback (most recent call last)",
      "\u001b[0;32m<ipython-input-38-59df7dcb3170>\u001b[0m in \u001b[0;36m<module>\u001b[0;34m\u001b[0m\n\u001b[1;32m      2\u001b[0m \u001b[0mNOTICIAS\u001b[0m \u001b[0mVIEJAS\u001b[0m\u001b[0;34m\u001b[0m\u001b[0;34m\u001b[0m\u001b[0m\n\u001b[1;32m      3\u001b[0m \"\"\"\n\u001b[0;32m----> 4\u001b[0;31m \u001b[0melem\u001b[0m \u001b[0;34m=\u001b[0m \u001b[0marticle\u001b[0m\u001b[0;34m.\u001b[0m\u001b[0mdoc\u001b[0m\u001b[0;34m.\u001b[0m\u001b[0mget_element_by_id\u001b[0m\u001b[0;34m(\u001b[0m\u001b[0;34m\"article-content\"\u001b[0m\u001b[0;34m)\u001b[0m\u001b[0;34m\u001b[0m\u001b[0;34m\u001b[0m\u001b[0m\n\u001b[0m\u001b[1;32m      5\u001b[0m \u001b[0;34m\u001b[0m\u001b[0m\n\u001b[1;32m      6\u001b[0m \"\"\"\n",
      "\u001b[0;32m~/.local/share/virtualenvs/hatespeech-collection-qaK7Gomm/lib/python3.6/site-packages/lxml/html/__init__.py\u001b[0m in \u001b[0;36mget_element_by_id\u001b[0;34m(self, id, *default)\u001b[0m\n\u001b[1;32m    411\u001b[0m                 \u001b[0;32mreturn\u001b[0m \u001b[0mdefault\u001b[0m\u001b[0;34m[\u001b[0m\u001b[0;36m0\u001b[0m\u001b[0;34m]\u001b[0m\u001b[0;34m\u001b[0m\u001b[0;34m\u001b[0m\u001b[0m\n\u001b[1;32m    412\u001b[0m             \u001b[0;32melse\u001b[0m\u001b[0;34m:\u001b[0m\u001b[0;34m\u001b[0m\u001b[0;34m\u001b[0m\u001b[0m\n\u001b[0;32m--> 413\u001b[0;31m                 \u001b[0;32mraise\u001b[0m \u001b[0mKeyError\u001b[0m\u001b[0;34m(\u001b[0m\u001b[0mid\u001b[0m\u001b[0;34m)\u001b[0m\u001b[0;34m\u001b[0m\u001b[0;34m\u001b[0m\u001b[0m\n\u001b[0m\u001b[1;32m    414\u001b[0m \u001b[0;34m\u001b[0m\u001b[0m\n\u001b[1;32m    415\u001b[0m     \u001b[0;32mdef\u001b[0m \u001b[0mtext_content\u001b[0m\u001b[0;34m(\u001b[0m\u001b[0mself\u001b[0m\u001b[0;34m)\u001b[0m\u001b[0;34m:\u001b[0m\u001b[0;34m\u001b[0m\u001b[0;34m\u001b[0m\u001b[0m\n",
      "\u001b[0;31mKeyError\u001b[0m: 'article-content'"
     ]
    }
   ],
   "source": [
    "\"\"\"\n",
    "NOTICIAS VIEJAS\n",
    "\"\"\"\n",
    "elem = article.doc.get_element_by_id(\"article-content\")\n",
    "\n",
    "\"\"\"\n",
    "Esto es código particular de infobae\n",
    "Saco los links que están al pie de la nota\n",
    "\"\"\"\n",
    "children = list(elem.getchildren())\n",
    "\n",
    "last = children[-1]\n",
    "\n",
    "while len(list(children[-1].iter(\"a\"))) > 0:\n",
    "    children.pop(-1)\n",
    "    \n",
    "\"\"\"\n",
    "Me quedo con el texto\n",
    "\"\"\"\n",
    "text_children = [t for t in children if t.tag not in [\"meta\", \"script\"]]\n",
    "text = \"\\n\\n\".join(t.text_content().strip() for t in text_children)\n",
    "\n",
    "print(text.strip())"
   ]
  },
  {
   "cell_type": "markdown",
   "metadata": {},
   "source": [
    "## Noticias repetidas"
   ]
  }
 ],
 "metadata": {
  "kernelspec": {
   "display_name": "Python 3",
   "language": "python",
   "name": "python3"
  },
  "language_info": {
   "codemirror_mode": {
    "name": "ipython",
    "version": 3
   },
   "file_extension": ".py",
   "mimetype": "text/x-python",
   "name": "python",
   "nbconvert_exporter": "python",
   "pygments_lexer": "ipython3",
   "version": "3.6.10"
  }
 },
 "nbformat": 4,
 "nbformat_minor": 4
}
