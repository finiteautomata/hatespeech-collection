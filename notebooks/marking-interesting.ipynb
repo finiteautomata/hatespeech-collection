{
 "cells": [
  {
   "cell_type": "markdown",
   "metadata": {},
   "source": [
    "# Marking interesting news\n"
   ]
  },
  {
   "cell_type": "code",
   "execution_count": 45,
   "metadata": {},
   "outputs": [
    {
     "name": "stdout",
     "output_type": "stream",
     "text": [
      "The autoreload extension is already loaded. To reload it, use:\n",
      "  %reload_ext autoreload\n"
     ]
    }
   ],
   "source": [
    "%load_ext autoreload\n",
    "%autoreload 2\n",
    "from mongoengine import connect\n",
    "from tweepyrate import create_apps\n",
    "from hate_collector.models import Tweet\n",
    "\n",
    "client = connect(\"hatespeech-news\")\n",
    "db = client[\"hatespeech-news\"]"
   ]
  },
  {
   "cell_type": "markdown",
   "metadata": {},
   "source": [
    "We look for tweets that are not replies."
   ]
  },
  {
   "cell_type": "code",
   "execution_count": 54,
   "metadata": {},
   "outputs": [
    {
     "data": {
      "text/plain": [
       "['lanacion',\n",
       " 'prensarepublica',\n",
       " 'abc_es',\n",
       " 'clarincom',\n",
       " 'cronica',\n",
       " 'elmundoes',\n",
       " 'elpaisuy',\n",
       " 'infobae',\n",
       " 'laderechadiario',\n",
       " 'latercera',\n",
       " 'lavanguardia',\n",
       " 'perfilcom']"
      ]
     },
     "execution_count": 54,
     "metadata": {},
     "output_type": "execute_result"
    }
   ],
   "source": [
    "screen_names = [t[1:].lower() for t in db.tweet.distinct('query') if t is not None]\n",
    "screen_names"
   ]
  },
  {
   "cell_type": "code",
   "execution_count": 55,
   "metadata": {},
   "outputs": [
    {
     "name": "stdout",
     "output_type": "stream",
     "text": [
      "There are 17.14K that are not replies and come from the official news accounts = ['@lanacion', '@prensarepublica', '@abc_es', '@clarincom', '@cronica', '@elmundoes', '@elpaisuy', '@infobae', '@laderechadiario', '@latercera', '@lavanguardia', '@perfilcom']\n"
     ]
    }
   ],
   "source": [
    "tweets = Tweet.objects(in_reply_to_status_id=None, user_name__in=screen_names)\n",
    "\n",
    "print(f\"There are {tweets.count() / 1e3:.2f}K that are not replies and come from the official news accounts = {['@' + name for name in screen_names]}\")"
   ]
  },
  {
   "cell_type": "markdown",
   "metadata": {},
   "source": [
    "## News and its replies"
   ]
  },
  {
   "cell_type": "code",
   "execution_count": 56,
   "metadata": {},
   "outputs": [
    {
     "name": "stderr",
     "output_type": "stream",
     "text": [
      "Exception ignored in: <object repr() failed>\n",
      "Traceback (most recent call last):\n",
      "  File \"/home/jmperez/.local/share/virtualenvs/hatespeech-collection-qaK7Gomm/lib/python3.6/site-packages/tqdm/std.py\", line 1066, in __del__\n",
      "    self.close()\n",
      "  File \"/home/jmperez/.local/share/virtualenvs/hatespeech-collection-qaK7Gomm/lib/python3.6/site-packages/tqdm/notebook.py\", line 236, in close\n",
      "    super(tqdm_notebook, self).close(*args, **kwargs)\n",
      "  File \"/home/jmperez/.local/share/virtualenvs/hatespeech-collection-qaK7Gomm/lib/python3.6/site-packages/tqdm/std.py\", line 1241, in close\n",
      "    if self.disable:\n",
      "AttributeError: 'tqdm_notebook' object has no attribute 'disable'\n"
     ]
    }
   ],
   "source": [
    "tweets_and_replies = db.tweet.aggregate([ \n",
    "\n",
    "    {\n",
    "        \"$match\": {\n",
    "            \"checked\": False,\n",
    "            \"interesting\": False,\n",
    "            \"user_name\": {\"$in\": screen_names },\n",
    "            \"in_reply_to_status_id\": None\n",
    "        }\n",
    "    },\n",
    "    { \n",
    "        \"$lookup\": {   \n",
    "            \"from\": \"tweet\",   \n",
    "            \"localField\": \"_id\",   \n",
    "            \"foreignField\": \"in_reply_to_status_id\", \n",
    "            \"as\": \"replies\"\n",
    "        }\n",
    "    },\n",
    "    {\n",
    "        \"$match\": {\n",
    "            \"$expr\": {\"$gt\": [{\"$size\": \"$replies\"}, 5]},\n",
    "            #\"replies\": { \"$gt\": {\"$size\": 5 } },\n",
    "        }\n",
    "    },\n",
    "    { \n",
    "        \"$sample\": { \n",
    "            \"size\": 100,\n",
    "        } \n",
    "    }\n",
    "])\n"
   ]
  },
  {
   "cell_type": "code",
   "execution_count": 57,
   "metadata": {},
   "outputs": [],
   "source": [
    "tweets_and_replies = list(tweets_and_replies)\n",
    "current_idx = 0"
   ]
  },
  {
   "cell_type": "code",
   "execution_count": 58,
   "metadata": {},
   "outputs": [],
   "source": [
    "from pprint import pprint as ppr\n",
    "\n",
    "def show_tweet(tweet):\n",
    "    print(f\"Tweet id: {tweet['_id']}\")\n",
    "    print(f\"Interesting? {tweet['interesting']}\")\n",
    "    print(f\"Checked ? {tweet['checked']}\")\n",
    "    print(tweet[\"created_at\"], \"\\n\\n\")\n",
    "    \n",
    "    \n",
    "    print(f\"@{tweet['user']['screen_name']}\")\n",
    "    print(tweet[\"text\"])\n",
    "    \n",
    "    print(\"\\nRespuestas:\")\n",
    "    \n",
    "    for j, reply in enumerate(tweet[\"replies\"]):\n",
    "        print(f\"{reply['_id']:<14} -- {j+1:<3}- {reply['text']}\")\n",
    "        \n",
    "def set_interesting(tweet):                                                                           \n",
    "    tweet[\"interesting\"] = True\n",
    "    tweet[\"checked\"] = True\n",
    "    \n",
    "    db.tweet.update_one(\n",
    "        {\"_id\": tweet[\"_id\"]},\n",
    "        {\"$set\": {\"interesting\": True, \"checked\": True}}\n",
    "    )\n",
    "    \n",
    "def check(tweet):\n",
    "    tweet[\"interesting\"] = False\n",
    "    tweet[\"checked\"] = True\n",
    "    \n",
    "    db.tweet.update_one(\n",
    "        {\"_id\": tweet[\"_id\"]},\n",
    "        {\"$set\": {\"interesting\": False, \"checked\": True}}\n",
    "    )\n",
    "    "
   ]
  },
  {
   "cell_type": "code",
   "execution_count": 59,
   "metadata": {},
   "outputs": [
    {
     "name": "stdout",
     "output_type": "stream",
     "text": [
      "Hay 100 tweets para chequear\n"
     ]
    }
   ],
   "source": [
    "print(f\"Hay {len(tweets_and_replies)} tweets para chequear\")"
   ]
  },
  {
   "cell_type": "code",
   "execution_count": 60,
   "metadata": {},
   "outputs": [
    {
     "data": {
      "application/vnd.jupyter.widget-view+json": {
       "model_id": "780b5e9c896e4d0686fce3edebd8ba1c",
       "version_major": 2,
       "version_minor": 0
      },
      "text/plain": [
       "HBox(children=(Button(description='Guardar', style=ButtonStyle()), Button(description='No guardar', style=Butt…"
      ]
     },
     "metadata": {},
     "output_type": "display_data"
    },
    {
     "data": {
      "application/vnd.jupyter.widget-view+json": {
       "model_id": "ee2ce84229b8402cbaefb0ce891e82aa",
       "version_major": 2,
       "version_minor": 0
      },
      "text/plain": [
       "Output()"
      ]
     },
     "metadata": {},
     "output_type": "display_data"
    }
   ],
   "source": [
    "from IPython.display import display, clear_output\n",
    "import ipywidgets as widgets\n",
    "\n",
    "interesting = widgets.Button(description=\"Guardar\")\n",
    "not_interesting = widgets.Button(description=\"No guardar\")\n",
    "output = widgets.Output()\n",
    "\n",
    "def save_tweet(b):\n",
    "    global tweet\n",
    "    global current_idx\n",
    "    output.clear_output()\n",
    "    with output:\n",
    "        set_interesting(tweet)\n",
    "        current_idx+=1\n",
    "        tweet = tweets_and_replies[current_idx]\n",
    "        show_tweet(tweet)\n",
    "\n",
    "def skip_tweet(b):\n",
    "    global tweet\n",
    "    global current_idx\n",
    "    output.clear_output()\n",
    "    with output:\n",
    "        check(tweet)\n",
    "        current_idx+=1\n",
    "        tweet = tweets_and_replies[current_idx]\n",
    "        show_tweet(tweet)\n",
    "\n",
    "buttons = widgets.HBox([interesting, not_interesting])\n",
    "\n",
    "def first_show(b):\n",
    "    global tweet\n",
    "    with output:\n",
    "        tweet = tweets_and_replies[current_idx]\n",
    "        show_tweet(tweet)\n",
    "\n",
    "\n",
    "buttons.on_displayed(first_show)\n",
    "interesting.on_click(save_tweet)\n",
    "not_interesting.on_click(skip_tweet)\n",
    "\n",
    "\n",
    "display(buttons, output)\n",
    "\n",
    "\n"
   ]
  },
  {
   "cell_type": "code",
   "execution_count": null,
   "metadata": {},
   "outputs": [],
   "source": []
  }
 ],
 "metadata": {
  "kernelspec": {
   "display_name": "Python 3",
   "language": "python",
   "name": "python3"
  },
  "language_info": {
   "codemirror_mode": {
    "name": "ipython",
    "version": 3
   },
   "file_extension": ".py",
   "mimetype": "text/x-python",
   "name": "python",
   "nbconvert_exporter": "python",
   "pygments_lexer": "ipython3",
   "version": "3.6.10"
  }
 },
 "nbformat": 4,
 "nbformat_minor": 4
}
