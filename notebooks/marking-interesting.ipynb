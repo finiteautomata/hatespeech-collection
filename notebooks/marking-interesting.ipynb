{
 "cells": [
  {
   "cell_type": "markdown",
   "metadata": {},
   "source": [
    "# Marking interesting news\n"
   ]
  },
  {
   "cell_type": "code",
   "execution_count": 1,
   "metadata": {},
   "outputs": [],
   "source": [
    "%load_ext autoreload\n",
    "%autoreload 2\n",
    "from mongoengine import connect\n",
    "from tweepyrate import create_apps\n",
    "from hate_collector.models import Tweet\n",
    "\n",
    "client = connect(\"hatespeech-news\")\n",
    "db = client[\"hatespeech-news\"]"
   ]
  },
  {
   "cell_type": "markdown",
   "metadata": {},
   "source": [
    "We look for tweets that are not replies."
   ]
  },
  {
   "cell_type": "code",
   "execution_count": 2,
   "metadata": {},
   "outputs": [
    {
     "data": {
      "text/plain": [
       "['LANACION',\n",
       " 'abc_es',\n",
       " 'clarincom',\n",
       " 'cronica',\n",
       " 'elmundoes',\n",
       " 'elpaisuy',\n",
       " 'infobae',\n",
       " 'latercera',\n",
       " 'lavanguardia',\n",
       " 'perfilcom']"
      ]
     },
     "execution_count": 2,
     "metadata": {},
     "output_type": "execute_result"
    }
   ],
   "source": [
    "screen_names = [t[1:] for t in db.tweet.distinct('query') if t is not None]\n",
    "screen_names"
   ]
  },
  {
   "cell_type": "code",
   "execution_count": 5,
   "metadata": {},
   "outputs": [
    {
     "name": "stdout",
     "output_type": "stream",
     "text": [
      "There are 15.18K that are not replies and come from the official news accounts = ['@LANACION', '@abc_es', '@clarincom', '@cronica', '@elmundoes', '@elpaisuy', '@infobae', '@latercera', '@lavanguardia', '@perfilcom']\n"
     ]
    }
   ],
   "source": [
    "tweets = Tweet.objects(in_reply_to_status_id=None, user__screen_name__in=screen_names)\n",
    "\n",
    "print(f\"There are {tweets.count() / 1e3:.2f}K that are not replies and come from the official news accounts = {['@' + name for name in screen_names]}\")"
   ]
  },
  {
   "cell_type": "markdown",
   "metadata": {},
   "source": [
    "## News and its replies"
   ]
  },
  {
   "cell_type": "code",
   "execution_count": 325,
   "metadata": {},
   "outputs": [],
   "source": [
    "tweets_and_replies = db.tweet.aggregate([ \n",
    "\n",
    "    {\n",
    "        \"$match\": {\n",
    "            \"checked\": False,\n",
    "            \"interesting\": False,\n",
    "            \"user.screen_name\": {\"$in\": screen_names },\n",
    "            \"in_reply_to_status_id\": None\n",
    "        }\n",
    "    },\n",
    "\n",
    "    { \n",
    "        \"$lookup\": {   \n",
    "            \"from\": \"tweet\",   \n",
    "            \"localField\": \"_id\",   \n",
    "            \"foreignField\": \"in_reply_to_status_id\", \n",
    "            \"as\": \"replies\"\n",
    "        }\n",
    "    },\n",
    "    { \n",
    "        \"$sample\": { \n",
    "            \"size\": 100,\n",
    "        } \n",
    "    }\n",
    "#    {\n",
    "#        \"$match\": {\n",
    "#            \"$expr\": {\"$gt\": [{\"$size\": \"$replies\"}, 10]},\n",
    "#            #\"replies\": { \"$gt\": {\"$size\": 5 } },\n",
    "#        }\n",
    "#    }\n",
    "])\n"
   ]
  },
  {
   "cell_type": "code",
   "execution_count": 326,
   "metadata": {},
   "outputs": [],
   "source": [
    "tweets_and_replies = list(tweets_and_replies)\n",
    "current_idx = 0"
   ]
  },
  {
   "cell_type": "code",
   "execution_count": 433,
   "metadata": {},
   "outputs": [],
   "source": [
    "from pprint import pprint as ppr\n",
    "\n",
    "def show_tweet(tweet):\n",
    "    print(f\"{'*' * 80} \\n\" * 4)\n",
    "    print(f\"Tweet id: {tweet['_id']}\")\n",
    "    print(f\"Interesting? {tweet['interesting']}\")\n",
    "    print(f\"Checked ? {tweet['checked']}\")\n",
    "    print(tweet[\"created_at\"], \"\\n\\n\")\n",
    "    \n",
    "    \n",
    "    print(f\"@{tweet['user']['screen_name']}\")\n",
    "    print(tweet[\"text\"])\n",
    "    \n",
    "    print(\"\\nRespuestas:\")\n",
    "    \n",
    "    for j, reply in enumerate(tweet[\"replies\"]):\n",
    "        print(f\"{reply['_id']:<14} -- {j+1:<3}- {reply['text']}\")\n",
    "        \n",
    "def set_interesting(tweet):                                                                           \n",
    "    print(\"Interesting!!!\\n\")\n",
    "    tweet[\"interesting\"] = True\n",
    "    tweet[\"checked\"] = True\n",
    "    \n",
    "    print(tweet[\"text\"])                                                                                    \n",
    "    \n",
    "    db.tweet.update_one(\n",
    "        {\"_id\": tweet[\"_id\"]},\n",
    "        {\"$set\": {\"interesting\": True, \"checked\": True}}\n",
    "    )\n",
    "    \n",
    "def check(tweet):\n",
    "    print(\"Boring\\n\")\n",
    "    tweet[\"interesting\"] = False\n",
    "    tweet[\"checked\"] = True\n",
    "    \n",
    "    print(tweet[\"text\"])                                                                                    \n",
    "    \n",
    "    db.tweet.update_one(\n",
    "        {\"_id\": tweet[\"_id\"]},\n",
    "        {\"$set\": {\"interesting\": False, \"checked\": True}}\n",
    "    )\n",
    "    "
   ]
  },
  {
   "cell_type": "code",
   "execution_count": 434,
   "metadata": {},
   "outputs": [
    {
     "name": "stdout",
     "output_type": "stream",
     "text": [
      "Hay 100 tweets para chequear\n"
     ]
    }
   ],
   "source": [
    "print(f\"Hay {len(tweets_and_replies)} tweets para chequear\")"
   ]
  },
  {
   "cell_type": "code",
   "execution_count": 459,
   "metadata": {},
   "outputs": [
    {
     "name": "stdout",
     "output_type": "stream",
     "text": [
      "******************************************************************************** \n",
      "******************************************************************************** \n",
      "******************************************************************************** \n",
      "******************************************************************************** \n",
      "\n",
      "Tweet id: 1225106309638426627\n",
      "Interesting? False\n",
      "Checked ? False\n",
      "2020-02-05 17:18:00 \n",
      "\n",
      "\n",
      "@latercera\n",
      "🔴#LaTerceraPM | La polémica solicitud del Presidente de Ecuador: Reformar ley para “expulsar a extranjeros que vienen a delinquir\" https://t.co/GupNF2m4qD https://t.co/TLG2hIq6ub\n",
      "\n",
      "Respuestas:\n",
      "1225156484746575875 -- 1  - @latercera Lo mismo deberían haber hecho en Chil con los extranjeros, motochorros, cicarios, prestamistas usureros, ladrones....\n",
      "1225164151653388289 -- 2  - @latercera Si es eso lo que hay que hacer!!! Cuál es la polémica??? Van a decir que eso es violencia??\n",
      "1225171068735971328 -- 3  - @latercera Polémica genera que los medios no encuentren absolutamente lógico expulsar a todos los que alteran el orden y solo son delincuentes.  De que parte están los medios de comunicación, como siempre son unos cobardes que prefieren estar con el populismo\n",
      "1225213137374339072 -- 4  - @latercera Un país menos desarrollado que el. Nuestro, nos muestra cómo hacer las cosas bien, pero ojo si lo hacemos nos van a llamar fachos, racistas, xenofobos, que la derecha es quien está detrás de todo, sin considerar que bachelete abrió las puertas al sicariato y  peor narcos extrans\n"
     ]
    }
   ],
   "source": [
    "tweet = tweets_and_replies[current_idx]\n",
    "show_tweet(tweet)"
   ]
  },
  {
   "cell_type": "code",
   "execution_count": 458,
   "metadata": {},
   "outputs": [
    {
     "name": "stdout",
     "output_type": "stream",
     "text": [
      "Boring\n",
      "\n",
      "El régimen iraní arrestó a 24 personas por difundir rumores sobre la propagación del coronavirus en el país https://t.co/eqrZsL8fOF\n"
     ]
    }
   ],
   "source": [
    "#set_interesting(tweet)\n",
    "check(tweet)\n",
    "\n",
    "current_idx += 1\n"
   ]
  },
  {
   "cell_type": "code",
   "execution_count": null,
   "metadata": {},
   "outputs": [],
   "source": []
  }
 ],
 "metadata": {
  "kernelspec": {
   "display_name": "Python 3",
   "language": "python",
   "name": "python3"
  },
  "language_info": {
   "codemirror_mode": {
    "name": "ipython",
    "version": 3
   },
   "file_extension": ".py",
   "mimetype": "text/x-python",
   "name": "python",
   "nbconvert_exporter": "python",
   "pygments_lexer": "ipython3",
   "version": "3.6.10"
  }
 },
 "nbformat": 4,
 "nbformat_minor": 4
}
