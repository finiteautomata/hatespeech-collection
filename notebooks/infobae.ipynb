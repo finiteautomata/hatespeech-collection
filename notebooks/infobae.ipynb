{
 "cells": [
  {
   "cell_type": "markdown",
   "metadata": {},
   "source": [
    "# Infobae\n",
    "\n",
    "En esta notebook veremos qué se puede hacer con los artículos de infobae..."
   ]
  },
  {
   "cell_type": "code",
   "execution_count": 1,
   "metadata": {},
   "outputs": [],
   "source": [
    "%load_ext autoreload\n",
    "%autoreload 2\n",
    "from mongoengine import connect\n",
    "from tweepyrate import create_apps\n",
    "from hatespeech_models import Tweet\n",
    "\n",
    "client = connect(\"hatespeech-news\")\n",
    "db = client[\"hatespeech-news\"]"
   ]
  },
  {
   "cell_type": "code",
   "execution_count": 2,
   "metadata": {},
   "outputs": [],
   "source": [
    "from newspaper import Article"
   ]
  },
  {
   "cell_type": "code",
   "execution_count": 11,
   "metadata": {},
   "outputs": [],
   "source": [
    "url = \"https://www.infobae.com/opinion/2020/03/31/economicidio-y-encierro-compulsivo/\"\n",
    "article = Article(url, language=\"es\")\n",
    "\n",
    "article.download()\n",
    "article.parse()"
   ]
  },
  {
   "cell_type": "code",
   "execution_count": 17,
   "metadata": {},
   "outputs": [
    {
     "data": {
      "text/plain": [
       "dict_keys(['config', 'extractor', 'source_url', 'url', 'title', 'top_img', 'top_image', 'meta_img', 'imgs', 'images', 'movies', 'text', 'keywords', 'meta_keywords', 'tags', 'authors', 'publish_date', 'summary', 'html', 'article_html', 'is_parsed', 'download_state', 'download_exception_msg', 'meta_description', 'meta_lang', 'meta_favicon', 'meta_data', 'canonical_link', 'top_node', 'clean_top_node', 'doc', 'clean_doc', 'additional_data', 'link_hash'])"
      ]
     },
     "execution_count": 17,
     "metadata": {},
     "output_type": "execute_result"
    }
   ],
   "source": [
    "vars(article).keys()"
   ]
  },
  {
   "cell_type": "code",
   "execution_count": 24,
   "metadata": {},
   "outputs": [
    {
     "data": {
      "text/plain": [
       "lxml.html.HtmlElement"
      ]
     },
     "execution_count": 24,
     "metadata": {},
     "output_type": "execute_result"
    }
   ],
   "source": [
    "type(article.doc)"
   ]
  },
  {
   "cell_type": "code",
   "execution_count": 26,
   "metadata": {},
   "outputs": [],
   "source": [
    "elem = article.doc.get_element_by_id(\"article-content\")"
   ]
  },
  {
   "cell_type": "code",
   "execution_count": 28,
   "metadata": {},
   "outputs": [
    {
     "data": {
      "text/plain": [
       "<Element div at 0x7f5c6287eb88>"
      ]
     },
     "execution_count": 28,
     "metadata": {},
     "output_type": "execute_result"
    }
   ],
   "source": [
    "elem"
   ]
  },
  {
   "cell_type": "code",
   "execution_count": null,
   "metadata": {},
   "outputs": [],
   "source": []
  },
  {
   "cell_type": "code",
   "execution_count": 41,
   "metadata": {},
   "outputs": [
    {
     "name": "stdout",
     "output_type": "stream",
     "text": [
      "--\n",
      " Previa\n",
      "--\n",
      "“Y es todo, todo tan fugaz”\n",
      "--\n",
      "“Tiene suerte. En política eso es formidable”.\n",
      "--\n",
      "La Garganta alude a Alberto Fernández, El Poeta Impopular.\n",
      "--\n",
      "Con más del 90% de adhesión positiva en el bolso, debería ser, en adelante, El Poeta Popular.\n",
      "--\n",
      " \n",
      "--\n",
      "--\n",
      "Pero ya lo sentenció Cátulo Castillo.\n",
      "--\n",
      "“Es todo, todo tan fugaz” (La última curda).\n",
      "--\n",
      "Crecimientos (o declinaciones) que sorprenden.\n",
      "--\n",
      "Venía de tres meses en banda hasta que, ante la desgracia, Alberto se cargó el país al hombro.\n",
      "--\n",
      "Para encabezar la cruzada contra el “enemigo invisible”.\n",
      "--\n",
      "En el contexto amplio, el que justifica, el virus del COVID altera los valores geopolíticos del universo.\n",
      "--\n",
      "En el ámbito local, el único que interesa, alteró la carrera política de Alberto.\n",
      "--\n",
      "El virus le asegura un lugar preponderante en la historia.\n",
      "--\n",
      "Más de lo que soñaba. Y de lo que -acaso- merecía.\n",
      "--\n",
      " Carolina Mantegari\n",
      "--\n",
      "1. Aquel domingo\n",
      "--\n",
      " Amigos históricos de la secta compleja del peronismo de la capital suelen emocionarse cuando suponen que Alberto aún los escucha. O más grave, cuando los consulta. Suponen que el líder respeta las opiniones. Las comparte y multiplica. Pero el Poeta Impopular toma sus propias decisiones que no consulta con nadie. O sólo con La Doctora (el factor indirecto de su proyección). Como la extensión del encierro compulsivo hasta el 13 de abril.\n",
      "--\n",
      " Un domingo en que mantuvo en vilo a la sociedad. Había tomado la decisión peligrosa y equivocada. La completaba con consultas complementarias. En simultáneo, los propagadores del culto presidencial contaminaban a la ciudadanía con las conversaciones informáticas del Presidente, en comunicación con todos los gobernadores. O con los prestigiosos especialistas en infectología que coparon, con sus erudiciones, la totalidad de los canales de televisión. Se confundían con los panelistas.\n",
      "--\n",
      " Aquel domingo de aislamiento colectivo, justamente a mediodía, el afectuoso ministro Ginés, Fábulo Vega, seleccionó un combinado de infectólogos. Juntos actuaron como teloneros para entretener a la sociedad, ansiosa por saber hasta cuándo debían fumarse la permanencia del Estado Policial (pero con una Causa Noble). \n",
      "--\n",
      " Los teloneros distribuyeron caramelos de madera (ligeramente espolvoreados con azúcar impalpable). Insistieron en comunicarle a la audiencia, con rostro solemne, que “ya todos aprendieron que hay que lavarse las manos». Y no «tocarse la cara». Conclusión, recomendaban al Presidente continuar con el encierro compulsivo que previamente había decidido.\n",
      "--\n",
      " Marcos Peña, El Pibe de Oro, jamás la hubiera armado mejor. \n",
      "--\n",
      " No era mérito del vocero sin voz, el joven Biondi, El Pepe. Ni del Premier Cafiero, El Nieto.\n",
      "--\n",
      " Producción exclusiva de Alberto.\n",
      "--\n",
      "2. Economicidio\n",
      "--\n",
      " Por la tarde, el estadista con máxima imagen conversaba con los señores gobernadores. En realidad, montado en la semana de grandeza, se limitó a notificar que extendía el “aislamiento preventivo y obligatorio” (el portal lo denomina “encierro compulsivo”). Dedicó cuatro horas. Y hasta anotaba alguna de las sensateces sin brillo que comentaban los gobernadores solidarios. Interesados en cobrar sin retardos lo que les correspondía de “la copa”. En mojar la indispensable medialuna en los “a-te-enes”.\n",
      "--\n",
      " ATN. Ayuda del Estado Nacional. Caramelos que se distribuyen desde el Ministerio Corach. Como se llama a Interior. Hoy a cargo del doctor De Pedro, El Wado. Hace lo que puede con la insuficiencia de los caramelos.\n",
      "--\n",
      " Cuentan que Wado pidió 60 mil millones y Guzmán, Alias Gardelito, por instrucción de Alberto apenas le habilitó 6 mil. Para desparramar entre los gobernadores angustiados por pagar los sueldos (todos menos cinco, ampliaremos). No les alcanza con la “copa”, la “coparticipación”. Tampoco todos (menos los cinco) pueden confiar en las raquíticas recaudaciones provinciales. Menos con el país inmovilizado por el “encierro compulsivo”, aunque varias provincias no cuenten siquiera con un muerto. Pero soportan, con admirable impotencia, la pulverización de sus economías. Efectos del economicidio nacional.\n",
      "--\n",
      " Consta que ningún gobernador se atrevió a impugnarlo. Manifestaban lógicas “preocupaciones”. El presidente necesitaba la miga política y debían ponerle el hombro. Para que presentara, en emotivo show estelar, “aquel domingo” la continuidad de la cuarentena. A las 22 hs. Acompañado de la seriedad institucional de El Wado. De la tonificante presencia del Premier, El Nieto, en cautivante sport negro.\n",
      "--\n",
      " En las cercanías de La (Agencia de Colocaciones) Cámpora, se identifica al Nieto como “El que se hace los claritos”.\n",
      "--\n",
      "3. Gobiernos radicales\n",
      "--\n",
      " De no estar Axel, El Gótico; Máximo, En el Nombre del Hijo; Sergio, El Conductor; Felipe, Máximo Cuadro del Felipismo, perfectamente podría hablarse del Cuarto Gobierno Radical. Enternece el esmero del Poeta Impopular por asemejarse a Raúl Alfonsín, al que cita con frecuencia. Pero logra parecerse a Ricardito. Ante la circunspección de Wado y la remera negra de “El que se hace los claritos”.\n",
      "--\n",
      " Con el tono pausado del estadista responsable, Alberto innovó con su seductora interpretación del capitalismo (aún no explotada por la doctora Bregman). Alberto dirigió el mensaje atroz a don Paolo Rocca, El Cientista (pero iba a responderle un empresario cordobés). \n",
      "--\n",
      " Don Paolo acumula el mérito relativo de haber sido encuadernado por Mauricio Macri, El Ángel Exterminador. Y tratado frontalmente de “miserable” por Alberto. Al mejor estilo Moreno (Guillermo) con los oligarcas. “Muchachos, ya ganaron mucho, les toca ganar menos”.\n",
      "--\n",
      " Aquel domingo, en la conmovedora exposición, supo elevarse hacia la condición de estadista moral. En desmedro, infortunadamente, de la economía. Por el error de plantear la prioridad «salud o economía». Cuando debe ser, en simultáneo, salud y economía. Salvo que la salud se privilegie para legitimar políticamente el fracaso en la economía. O justificar, ante el economicidio, la impotencia.\n",
      "--\n",
      " “De la mala economía se vuelve, de la muerte no”. Argumento dramático y sentimental que podía haber legitimado al Ángel. Fue llevado puesto como una bufanda. Por la mala economía que Alberto amaga con profundizar. Aunque con el fracaso, en su caso, justificado.\n",
      "--\n",
      "4. El antidoctorismo como factor de popularidad\n",
      "--\n",
      " Pobre Ángel. Macri no tuvo, con el país, la suerte que lo acompañó en la presidencia de Boca, cuando lo tenía a Carlos Bianchi, Le Monsieur. O en la jefatura del Maxi Quiosco, cuando para trabajar lo tenía a Horacio Rodríguez Larreta, Geniol.\n",
      "--\n",
      " “Buen producto desperdiciado”, calificación del portal.\n",
      "--\n",
      " Pudo haber sido rescatado ante la historia. Pero la pestilencia del COVID le correspondió al sucesor. Estadista con Suerte. \n",
      "--\n",
      " Con la contabilidad macabra de muertos, contagiados y respiradores. Si la pestilencia del COVID llegaba un año antes, El Ángel Exterminador podía haber culpado al virus por el desastre de su economía, base del catastrófico colapso del Tercer Gobierno Radical.\n",
      "--\n",
      " La providencia favoreció a Alberto y supo aprovecharla. La cruzada sanitarista le brindó iniciativa y capacidad de liderazgo. Cierta cohesión a la fragilidad del esquema mal loteado. Para aumentar su índice de popularidad, especialmente entre quienes no lo votaron. Es la ventaja de cobrar por dos ventanillas. La del doctorismo y la del antidoctorismo.\n",
      "--\n",
      " El COVID resultó providencial para opacar a La Doctora. Para brindarle carnadura al proyecto de la mitad de la sociedad que la detesta.\n",
      "--\n",
      " Alberto se convirtió en “la última esperanza del antidoctorismo”. Por la maestría en capitalizar la lucha contra el “enemigo invisible”. Y por la ilusión imaginaria de desplazar a La Doctora. Disolverla. Superarla.\n",
      "--\n",
      " El antidoctorismo emerge como el factor que blinda -transitoriamente- la popularidad del Poeta Impopular. Pero en Argentina, como dijo Cátulo, «es todo, todo tan fugaz».\n"
     ]
    }
   ],
   "source": [
    "for par in elem.iter(\"p\"):\n",
    "    children = list(par)\n",
    "    print(\"--\")\n",
    "    if len(children) > 0:\n",
    "        print(\" \".join([c.text for c in children]))\n",
    "    elif par.text:\n",
    "        print(par.text)"
   ]
  }
 ],
 "metadata": {
  "kernelspec": {
   "display_name": "Python 3",
   "language": "python",
   "name": "python3"
  },
  "language_info": {
   "codemirror_mode": {
    "name": "ipython",
    "version": 3
   },
   "file_extension": ".py",
   "mimetype": "text/x-python",
   "name": "python",
   "nbconvert_exporter": "python",
   "pygments_lexer": "ipython3",
   "version": "3.6.10"
  }
 },
 "nbformat": 4,
 "nbformat_minor": 4
}
