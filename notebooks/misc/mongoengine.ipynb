{
 "cells": [
  {
   "cell_type": "markdown",
   "metadata": {},
   "source": [
    "# MongoEngine example"
   ]
  },
  {
   "cell_type": "code",
   "execution_count": 9,
   "metadata": {},
   "outputs": [],
   "source": [
    "from mongoengine import connect, Document, StringField, DateTimeField, ListField\n",
    "import datetime\n",
    "connect('hatespeech')\n",
    "\n",
    "class BlogPost(Document):\n",
    "    title = StringField(required=True, max_length=200)\n",
    "    posted = DateTimeField(default=datetime.datetime.utcnow)\n",
    "    tags = ListField(StringField(max_length=50))\n",
    "    meta = {'allow_inheritance': True}\n",
    "\n",
    "class TextPost(BlogPost):\n",
    "    content = StringField(required=True)\n",
    "\n",
    "class LinkPost(BlogPost):\n",
    "    url = StringField(required=True)"
   ]
  },
  {
   "cell_type": "code",
   "execution_count": 10,
   "metadata": {},
   "outputs": [
    {
     "data": {
      "text/plain": [
       "<TextPost: TextPost object>"
      ]
     },
     "execution_count": 10,
     "metadata": {},
     "output_type": "execute_result"
    }
   ],
   "source": [
    "post1 = TextPost(title='Using MongoEngine', content='See the tutorial')\n",
    "post1.tags = ['mongodb', 'mongoengine']\n",
    "post1.save()"
   ]
  },
  {
   "cell_type": "markdown",
   "metadata": {},
   "source": [
    "If we need dynamic fields, we can use `DynamicDocument`"
   ]
  },
  {
   "cell_type": "code",
   "execution_count": 11,
   "metadata": {},
   "outputs": [
    {
     "data": {
      "text/plain": [
       "<Random: Random object>"
      ]
     },
     "execution_count": 11,
     "metadata": {},
     "output_type": "execute_result"
    }
   ],
   "source": [
    "from mongoengine import DynamicDocument\n",
    "\n",
    "class Random(DynamicDocument):\n",
    "    title= StringField(required=True)\n",
    "    \n",
    "r = Random(title=\"pepe\", a=1, b=2, c={\"d\": 3})\n",
    "\n",
    "r.save()"
   ]
  },
  {
   "cell_type": "code",
   "execution_count": 14,
   "metadata": {},
   "outputs": [
    {
     "data": {
      "text/plain": [
       "3"
      ]
     },
     "execution_count": 14,
     "metadata": {},
     "output_type": "execute_result"
    }
   ],
   "source": [
    "r.c['d']"
   ]
  },
  {
   "cell_type": "code",
   "execution_count": null,
   "metadata": {},
   "outputs": [],
   "source": []
  }
 ],
 "metadata": {
  "kernelspec": {
   "display_name": "Python 3",
   "language": "python",
   "name": "python3"
  },
  "language_info": {
   "codemirror_mode": {
    "name": "ipython",
    "version": 3
   },
   "file_extension": ".py",
   "mimetype": "text/x-python",
   "name": "python",
   "nbconvert_exporter": "python",
   "pygments_lexer": "ipython3",
   "version": "3.6.10"
  }
 },
 "nbformat": 4,
 "nbformat_minor": 4
}
