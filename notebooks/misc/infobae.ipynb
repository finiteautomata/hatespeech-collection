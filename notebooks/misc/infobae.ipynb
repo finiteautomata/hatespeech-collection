{
 "cells": [
  {
   "cell_type": "markdown",
   "metadata": {},
   "source": [
    "# Infobae\n",
    "\n",
    "En esta notebook veremos qué se puede hacer con los artículos de infobae..."
   ]
  },
  {
   "cell_type": "code",
   "execution_count": 23,
   "metadata": {},
   "outputs": [
    {
     "name": "stdout",
     "output_type": "stream",
     "text": [
      "The autoreload extension is already loaded. To reload it, use:\n",
      "  %reload_ext autoreload\n"
     ]
    }
   ],
   "source": [
    "%load_ext autoreload\n",
    "%autoreload 2\n",
    "from mongoengine import connect\n",
    "from tweepyrate import create_apps\n",
    "from hatespeech_models import Tweet\n",
    "\n",
    "client = connect(\"hatespeech-news\")\n",
    "db = client[\"hatespeech-news\"]"
   ]
  },
  {
   "cell_type": "code",
   "execution_count": 24,
   "metadata": {},
   "outputs": [],
   "source": [
    "from newspaper import Article\n",
    "url = \"https://ibae.am/37BkHcq\"\n",
    "article = Article(url, language=\"es\")\n",
    "\n",
    "article.download()\n",
    "article.parse()"
   ]
  },
  {
   "cell_type": "code",
   "execution_count": 29,
   "metadata": {},
   "outputs": [
    {
     "data": {
      "text/plain": [
       "<Element div at 0x7f4310178a48>"
      ]
     },
     "execution_count": 29,
     "metadata": {},
     "output_type": "execute_result"
    }
   ],
   "source": [
    "elem = article.doc.get_element_by_id(\"article-content\")\n",
    "\n",
    "elem"
   ]
  },
  {
   "cell_type": "code",
   "execution_count": 30,
   "metadata": {},
   "outputs": [
    {
     "name": "stdout",
     "output_type": "stream",
     "text": [
      "\n",
      "Dimitri Smirnov\n",
      " Las mujeres que contraen matrimonio civil son “prostitutas gratis”, declaró este domingo el jefe de la comisión patriarcal de la Iglesia Ortodoxa Rusa para la familia, arcipreste Dimitri Smirnov.\n",
      "Aquí las mujeres no comprenden qué es el matrimonio. No les apetece decir ‘soy una prostituta gratis’, por lo que dicen: estoy casada por lo civil. ¡Hola! El matrimonio civil no significa nada, solo dar un servicio gratis, nadie te considera una esposa\n",
      " El arcipreste arremetió también contra las mujeres ortodoxas que se casan con ateos o personas que profesan otras religiones no cristianas.\n",
      "¿Cómo se puede crear una iglesia con un musulmán, un testigo de Jehová, un comunista, un ateo? Eso no será una iglesia casera sino cualquier cosa. Por ello la Iglesia no puede bendecir estos matrimonios\n",
      " \n",
      " No obstante, Smirnov se mostró “flexible” al señalar que la Iglesia Ortodoxa Rusa ve con buenos ojos los matrimonios con representantes de otras confesiones cristianas. “Si se trata de un cristiano, por ejemplo, un católico o un luterano... en peor caso un bautista, pero no más allá. Nada de adventistas del séptimo día nos conviene, aunque aseguren que son cristianos. Sus enseñanzas se diferencian de modo radical de lo que predica la Iglesia sobre Dios”, explicó.\n",
      "\n",
      "Vladimir Putin asiste a un servicio de la navidad ortodoxa en San Petersburgo (Reuters)\n",
      "propuso como alternativa a las rusas que no han logrado encontrar marido en su patria viajar a África\n",
      " la Iglesia Ortodoxa Rusa, la que mayor cantidad de seguidores tiene en el país, cada vez gana más terreno\n",
      " En medio de los debates sobre las enmiendas a la Constitución rusa, el Patriarca Kiril propuso mencionar a Dios en el preámbulo a la Carta Magna.\n",
      " El representante del Kremlin en materia de reforma constitucional, el senador Andréi Klishas, apoyó inmediatamente la propuesta, pero los comunistas la rechazaron categóricamente.\n",
      "(Con información de EFE)\n",
      "\n",
      "La Iglesia ortodoxa rusa anuncia que rompe sus lazos con el Patriarcado de Constantinopla\n",
      "Una misteriosa ola de alertas de bomba trae de cabeza a Moscú\n",
      "\n",
      "\n",
      "\n"
     ]
    }
   ],
   "source": [
    "elem = article.doc.get_element_by_id(\"article-content\")\n",
    "\n",
    "elem\n",
    "\n",
    "text = \"\"\n",
    "for par in elem.iter(\"p\"):\n",
    "    children = list(par)\n",
    "    if len(children) > 0:\n",
    "        text += \" \".join([c.text or '' for c in children])\n",
    "    elif par.text:\n",
    "        text += par.text\n",
    "    else:\n",
    "        continue\n",
    "    text += \"\\n\"\n",
    "article.text = text\n",
    "\n",
    "print(article.text)"
   ]
  },
  {
   "cell_type": "markdown",
   "metadata": {},
   "source": [
    "#### "
   ]
  }
 ],
 "metadata": {
  "kernelspec": {
   "display_name": "Python 3",
   "language": "python",
   "name": "python3"
  },
  "language_info": {
   "codemirror_mode": {
    "name": "ipython",
    "version": 3
   },
   "file_extension": ".py",
   "mimetype": "text/x-python",
   "name": "python",
   "nbconvert_exporter": "python",
   "pygments_lexer": "ipython3",
   "version": "3.6.10"
  }
 },
 "nbformat": 4,
 "nbformat_minor": 4
}
